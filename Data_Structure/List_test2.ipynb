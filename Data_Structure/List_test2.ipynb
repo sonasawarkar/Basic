{
 "cells": [
  {
   "cell_type": "markdown",
   "id": "156764e8",
   "metadata": {},
   "source": [
    "### 1 create a list of prime numbers till 20 and find the length of it"
   ]
  },
  {
   "cell_type": "code",
   "execution_count": 4,
   "id": "1b4bb623",
   "metadata": {},
   "outputs": [
    {
     "name": "stdout",
     "output_type": "stream",
     "text": [
      "8\n"
     ]
    }
   ],
   "source": [
    "a=[2,3,5,7,11,13,17,19]\n",
    "print(len(a))"
   ]
  },
  {
   "cell_type": "markdown",
   "id": "ee8fa5e8",
   "metadata": {},
   "source": [
    "### 18 create a list of 5,2,18,7,12 and print in ascending and descending order"
   ]
  },
  {
   "cell_type": "code",
   "execution_count": 18,
   "id": "d067a9e3",
   "metadata": {},
   "outputs": [
    {
     "name": "stdout",
     "output_type": "stream",
     "text": [
      "[2, 5, 7, 12, 18]\n"
     ]
    }
   ],
   "source": [
    "a=[5,2,18,7,12]\n",
    "a.sort()\n",
    "print(a)"
   ]
  },
  {
   "cell_type": "code",
   "execution_count": 19,
   "id": "ee781e20",
   "metadata": {},
   "outputs": [
    {
     "name": "stdout",
     "output_type": "stream",
     "text": [
      "[18, 12, 7, 5, 2]\n"
     ]
    }
   ],
   "source": [
    "a.reverse()\n",
    "print(a)"
   ]
  },
  {
   "cell_type": "markdown",
   "id": "474bcff6",
   "metadata": {},
   "source": [
    "#### Q.19. merge two list"
   ]
  },
  {
   "cell_type": "code",
   "execution_count": 20,
   "id": "dfe96340",
   "metadata": {},
   "outputs": [
    {
     "name": "stdout",
     "output_type": "stream",
     "text": [
      "[1, 2, 3, 4, 5, 4, 2, 9, 6, 3, 10]\n"
     ]
    }
   ],
   "source": [
    "c = [1,2,3,4,5]\n",
    "d= [4,2,9,6,3,10]\n",
    "a=c+d\n",
    "print(a)"
   ]
  },
  {
   "cell_type": "markdown",
   "id": "4b6f9f70",
   "metadata": {},
   "source": [
    "### 20. make a deep copy of list and check whether it is copying deeply or not"
   ]
  },
  {
   "cell_type": "code",
   "execution_count": 21,
   "id": "b16c1c9d",
   "metadata": {},
   "outputs": [
    {
     "name": "stdout",
     "output_type": "stream",
     "text": [
      "[1, 2, 3]\n"
     ]
    }
   ],
   "source": [
    "c = [1,2,3]\n",
    "d = c\n",
    "print(d)"
   ]
  },
  {
   "cell_type": "code",
   "execution_count": 22,
   "id": "0d3efa9e",
   "metadata": {},
   "outputs": [
    {
     "name": "stdout",
     "output_type": "stream",
     "text": [
      "[1, 2, 3, 4]\n",
      "[1, 2, 3, 4]\n"
     ]
    }
   ],
   "source": [
    "c.append(4)\n",
    "print(c)\n",
    "print(d)"
   ]
  },
  {
   "cell_type": "markdown",
   "id": "6adede52",
   "metadata": {},
   "source": [
    "#### 21 make a copy of list in that way  making changes in one list will not affect to the another list"
   ]
  },
  {
   "cell_type": "code",
   "execution_count": 24,
   "id": "b658684a",
   "metadata": {},
   "outputs": [
    {
     "name": "stdout",
     "output_type": "stream",
     "text": [
      "['Rahul', 'Rohan', 'Rajveer']\n"
     ]
    }
   ],
   "source": [
    "a = ['Rahul','Rohan','Rajveer']\n",
    "c = a.copy()\n",
    "print(c)"
   ]
  },
  {
   "cell_type": "code",
   "execution_count": 25,
   "id": "733f2d36",
   "metadata": {},
   "outputs": [
    {
     "name": "stdout",
     "output_type": "stream",
     "text": [
      "['Rahul', 'Rohan', 'Rajveer', 'Rajkumar']\n",
      "['Rahul', 'Rohan', 'Rajveer']\n"
     ]
    }
   ],
   "source": [
    "a.append(\"Rajkumar\")\n",
    "print(a)\n",
    "print(c)"
   ]
  },
  {
   "cell_type": "markdown",
   "id": "45cb9913",
   "metadata": {},
   "source": [
    "### Q.22. Take any example to  explain stack and queue \n"
   ]
  },
  {
   "cell_type": "code",
   "execution_count": 26,
   "id": "a64fb36b",
   "metadata": {},
   "outputs": [
    {
     "name": "stdout",
     "output_type": "stream",
     "text": [
      "['Ram', 'Rohan', 'Rahul', 'Mohan', 'Mohini']\n"
     ]
    }
   ],
   "source": [
    "stack = [\"Ram\",\"Rohan\",\"Rahul\"]\n",
    "stack.append(\"Mohan\")\n",
    "stack.append(\"Mohini\")\n",
    "print(stack)"
   ]
  },
  {
   "cell_type": "code",
   "execution_count": 27,
   "id": "4d441725",
   "metadata": {},
   "outputs": [
    {
     "data": {
      "text/plain": [
       "'Mohini'"
      ]
     },
     "execution_count": 27,
     "metadata": {},
     "output_type": "execute_result"
    }
   ],
   "source": [
    "stack.pop()"
   ]
  },
  {
   "cell_type": "code",
   "execution_count": 28,
   "id": "e16db4b1",
   "metadata": {},
   "outputs": [
    {
     "name": "stdout",
     "output_type": "stream",
     "text": [
      "['Ram', 'Rohan', 'Rahul', 'Mohan']\n"
     ]
    }
   ],
   "source": [
    "print(stack)"
   ]
  },
  {
   "cell_type": "code",
   "execution_count": 29,
   "id": "127c9162",
   "metadata": {},
   "outputs": [
    {
     "name": "stdout",
     "output_type": "stream",
     "text": [
      "['Name', 'Age', 'Surname', 'Address', 'Nationality']\n"
     ]
    }
   ],
   "source": [
    "#Queue\n",
    "queue = [\"Name\",\"Age\",\"Surname\"]\n",
    "queue.append(\"Address\")\n",
    "queue.append(\"Nationality\")\n",
    "print(queue)"
   ]
  },
  {
   "cell_type": "code",
   "execution_count": 30,
   "id": "7b69a0ac",
   "metadata": {},
   "outputs": [
    {
     "data": {
      "text/plain": [
       "'Name'"
      ]
     },
     "execution_count": 30,
     "metadata": {},
     "output_type": "execute_result"
    }
   ],
   "source": [
    "queue.pop(0)"
   ]
  },
  {
   "cell_type": "code",
   "execution_count": 31,
   "id": "4c46e21b",
   "metadata": {},
   "outputs": [
    {
     "data": {
      "text/plain": [
       "'Age'"
      ]
     },
     "execution_count": 31,
     "metadata": {},
     "output_type": "execute_result"
    }
   ],
   "source": [
    "queue.pop(0)"
   ]
  },
  {
   "cell_type": "code",
   "execution_count": 32,
   "id": "acdb1a96",
   "metadata": {},
   "outputs": [
    {
     "name": "stdout",
     "output_type": "stream",
     "text": [
      "['Surname', 'Address', 'Nationality']\n"
     ]
    }
   ],
   "source": [
    "print(queue)"
   ]
  },
  {
   "cell_type": "markdown",
   "id": "a4476c80",
   "metadata": {},
   "source": [
    "#### Q.23. zip four list contain with natural number your name,age, rollno\n"
   ]
  },
  {
   "cell_type": "code",
   "execution_count": 33,
   "id": "526116be",
   "metadata": {},
   "outputs": [
    {
     "name": "stdout",
     "output_type": "stream",
     "text": [
      "[('Sheetal', '25', '5', '101'), ('Krishna', '19', '2', '102'), ('Radha', '22', '1', '103')]\n"
     ]
    }
   ],
   "source": [
    "#zip\n",
    "name = [\"Sheetal\",\"Krishna\",\"Radha\"]\n",
    "age = ['25','19','22']\n",
    "roll_no = ['5','2','1']\n",
    "id1 = ['101','102','103']\n",
    "mapped = zip(name,age,roll_no,id1)\n",
    "mapped = list(mapped)\n",
    "print(mapped)"
   ]
  },
  {
   "cell_type": "markdown",
   "id": "25552697",
   "metadata": {},
   "source": [
    "### Q.24. unzip the above list"
   ]
  },
  {
   "cell_type": "code",
   "execution_count": 34,
   "id": "7d8ef700",
   "metadata": {},
   "outputs": [
    {
     "name": "stdout",
     "output_type": "stream",
     "text": [
      "('Sheetal', 'Krishna', 'Radha')\n",
      "('25', '19', '22')\n",
      "('5', '2', '1')\n",
      "('101', '102', '103')\n"
     ]
    }
   ],
   "source": [
    "namez,agez,roll_noz,id1 = zip(*mapped)\n",
    "print(namez)\n",
    "print(agez)\n",
    "print(roll_noz)\n",
    "print(id1)"
   ]
  }
 ],
 "metadata": {
  "kernelspec": {
   "display_name": "Python 3 (ipykernel)",
   "language": "python",
   "name": "python3"
  },
  "language_info": {
   "codemirror_mode": {
    "name": "ipython",
    "version": 3
   },
   "file_extension": ".py",
   "mimetype": "text/x-python",
   "name": "python",
   "nbconvert_exporter": "python",
   "pygments_lexer": "ipython3",
   "version": "3.9.12"
  }
 },
 "nbformat": 4,
 "nbformat_minor": 5
}
