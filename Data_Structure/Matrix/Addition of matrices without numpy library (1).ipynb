{
 "cells": [
  {
   "cell_type": "markdown",
   "id": "5f10c8f7",
   "metadata": {},
   "source": [
    "### Program to add matrix of 2*2 using nested loop and list comprehension:"
   ]
  },
  {
   "cell_type": "code",
   "execution_count": 1,
   "id": "a0040fc6",
   "metadata": {},
   "outputs": [
    {
     "name": "stdout",
     "output_type": "stream",
     "text": [
      "[5, 5]\n",
      "[11, 8]\n",
      "[[5, 5], [11, 8]]\n"
     ]
    }
   ],
   "source": [
    "x=[[2,4],\n",
    "  [5,6]]\n",
    "\n",
    "y=[[3,1],\n",
    "  [6,2]]\n",
    "\n",
    "result=[[0,0],\n",
    "       [0,0]]\n",
    "\n",
    "for i in range(len(x)):\n",
    "    for j in range(len(x)):\n",
    "        result[i][j]=x[i][j]+y[i][j]\n",
    "for r in result:\n",
    "    print(r)\n",
    "result=[[x[i][j]+y[i][j]for j in range(len(x))]for i in range(len(x))]\n",
    "print(result)"
   ]
  }
 ],
 "metadata": {
  "kernelspec": {
   "display_name": "Python 3 (ipykernel)",
   "language": "python",
   "name": "python3"
  },
  "language_info": {
   "codemirror_mode": {
    "name": "ipython",
    "version": 3
   },
   "file_extension": ".py",
   "mimetype": "text/x-python",
   "name": "python",
   "nbconvert_exporter": "python",
   "pygments_lexer": "ipython3",
   "version": "3.9.12"
  }
 },
 "nbformat": 4,
 "nbformat_minor": 5
}
