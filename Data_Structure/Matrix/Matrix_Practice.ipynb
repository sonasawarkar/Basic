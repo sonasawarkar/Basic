{
 "cells": [
  {
   "cell_type": "markdown",
   "id": "26d0ecbb",
   "metadata": {},
   "source": [
    "### 1. Add a matrix of 2*2 using nested loop and list comprehension"
   ]
  },
  {
   "cell_type": "code",
   "execution_count": 10,
   "id": "b53dc211",
   "metadata": {},
   "outputs": [
    {
     "name": "stdout",
     "output_type": "stream",
     "text": [
      "[6, 10]\n",
      "[10, 10]\n"
     ]
    }
   ],
   "source": [
    "# 2*2 matrix\n",
    "x=[[2,4],\n",
    "  [9,3]]\n",
    "# 2*2 matrix    \n",
    "y=[[4,6],    \n",
    "  [1,7]]\n",
    "    \n",
    "result=[[x[i][j]+y[i][j] for j in range(len(x[0]))] for i in range(len(x))]\n",
    "for r in result:\n",
    "    print(r) "
   ]
  },
  {
   "cell_type": "markdown",
   "id": "61e3c318",
   "metadata": {},
   "source": [
    "## 2. Program to substract matrix of 4*4 using loop and list comprehension\n",
    " X = [[9, 8, 7, 6],\n",
    "     [8, 7, 6, 5],\n",
    "     [7, 6, 5, 4],\n",
    "     [6, 5, 4, 3]]\n",
    "\n",
    "Y = [[1, 2, 3, 4],\n",
    "     [2, 3, 4, 5],\n",
    "     [3, 4, 5, 6],\n",
    "     [4, 5, 6, 7]]"
   ]
  },
  {
   "cell_type": "code",
   "execution_count": 11,
   "id": "477acd8f",
   "metadata": {},
   "outputs": [
    {
     "name": "stdout",
     "output_type": "stream",
     "text": [
      "[8, 6, 4, 2]\n",
      "[6, 4, 2, 0]\n",
      "[4, 2, 0, -2]\n",
      "[2, 0, -2, -4]\n"
     ]
    }
   ],
   "source": [
    "# 4*4 matrix\n",
    "X = [[9, 8, 7, 6],\n",
    "     [8, 7, 6, 5],\n",
    "     [7, 6, 5, 4],\n",
    "     [6, 5, 4, 3]]\n",
    "# 4*4 matrix\n",
    "Y = [[1, 2, 3, 4],\n",
    "     [2, 3, 4, 5],\n",
    "     [3, 4, 5, 6],\n",
    "     [4, 5, 6, 7]]\n",
    "\n",
    "result = [[X[i][j] - Y[i][j] for j in range (len(X[0]))] for i in range(len(X))]\n",
    "for r in result:\n",
    "    print(r) "
   ]
  },
  {
   "cell_type": "markdown",
   "id": "ab330f86",
   "metadata": {},
   "source": [
    "### 3. Program to find the transpose of a matrix:"
   ]
  },
  {
   "cell_type": "markdown",
   "id": "90bdad97",
   "metadata": {},
   "source": [
    "X =[[1, 2, 3],\n",
    "    [2, 3, 4]]\n",
    "\n",
    "result = [[0, 0],\n",
    "          [0, 0],\n",
    "          [0, 0]]\n",
    " \n",
    "Y = [[2, 3, 4, 5],\n",
    "     [4, 5, 6, 7],\n",
    "     [6, 7, 8, 9]]"
   ]
  },
  {
   "cell_type": "code",
   "execution_count": 29,
   "id": "4fca79ce",
   "metadata": {},
   "outputs": [
    {
     "name": "stdout",
     "output_type": "stream",
     "text": [
      "[1, 2]\n",
      "[2, 3]\n",
      "[3, 4]\n"
     ]
    }
   ],
   "source": [
    "# 2*3\n",
    "X =[[1, 2, 3],\n",
    "    [2, 3, 4]]\n",
    "\n",
    "# result is 2*3\n",
    "result = [[0, 0],\n",
    "          [0, 0],\n",
    "          [0, 0]]\n",
    "\n",
    "# iterate through rows of X\n",
    "for i in range(len(X)):\n",
    "    # iterate through columns of X\n",
    "    for j in range(len(X[0])):\n",
    "        result[j][i] = X[i][j]\n",
    "\n",
    "for r in result:\n",
    "    print(r) "
   ]
  },
  {
   "cell_type": "code",
   "execution_count": 33,
   "id": "79a41268",
   "metadata": {},
   "outputs": [
    {
     "name": "stdout",
     "output_type": "stream",
     "text": [
      "[2, 4, 6]\n",
      "[3, 5, 7]\n",
      "[4, 6, 8]\n",
      "[5, 7, 9]\n"
     ]
    }
   ],
   "source": [
    "# 3*4\n",
    "Y = [[2, 3, 4, 5],\n",
    "     [4, 5, 6, 7],\n",
    "     [6, 7, 8, 9]]\n",
    "# result is 3x4\n",
    "result=[[0,0,0],\n",
    "        [0,0,0],\n",
    "        [0,0,0],\n",
    "        [0,0,0]]\n",
    "\n",
    "# iterate through row of Y:\n",
    "for i in range(len(Y)):\n",
    "# iterate through columns of Y   \n",
    "    for j in range(len(Y[0])):\n",
    "        result[j][i] = Y[i][j]\n",
    "        \n",
    "for r in result:\n",
    "    print(r)"
   ]
  },
  {
   "cell_type": "markdown",
   "id": "421976af",
   "metadata": {},
   "source": [
    "### 4. Program to find the multiplication of the matrix"
   ]
  },
  {
   "cell_type": "markdown",
   "id": "72de5562",
   "metadata": {},
   "source": [
    "X = [[9, 8, 7, 6],\n",
    "     [8, 7, 6, 5],\n",
    "     [7, 6, 5, 4],\n",
    "     [6, 5, 4, 3]]\n",
    "\n",
    "Y = [[1, 2, 3, 4],\n",
    "     [2, 3, 4, 5],\n",
    "     [3, 4, 5, 6],\n",
    "     [4, 5, 6, 7]]"
   ]
  },
  {
   "cell_type": "code",
   "execution_count": 8,
   "id": "ca32e616",
   "metadata": {},
   "outputs": [
    {
     "name": "stdout",
     "output_type": "stream",
     "text": [
      "[70, 100, 130, 160]\n",
      "[60, 86, 112, 138]\n",
      "[50, 72, 94, 116]\n",
      "[40, 58, 76, 94]\n"
     ]
    }
   ],
   "source": [
    "# 4x4 matrix\n",
    "X = [[9, 8, 7, 6],\n",
    "     [8, 7, 6, 5],\n",
    "     [7, 6, 5, 4],\n",
    "     [6, 5, 4, 3]]\n",
    "# 4x4 matrix\n",
    "Y = [[1, 2, 3, 4],\n",
    "     [2, 3, 4, 5],\n",
    "     [3, 4, 5, 6],\n",
    "     [4, 5, 6, 7]]\n",
    "# result is 4x4:\n",
    "result = [[0,0,0,0],\n",
    "          [0,0,0,0],\n",
    "          [0,0,0,0],\n",
    "          [0,0,0,0]]\n",
    "\n",
    "# iterate through rows of X\n",
    "for i in range(len(X)):\n",
    "# iterate through columns of Y\n",
    "   for j in range(len(Y[0])):       \n",
    "# iterate through rows of Y\n",
    "        for k in range(len(Y)):\n",
    "           result[i][j] += X[i][k] * Y[k][j]\n",
    "for r in result:\n",
    "    print(r) "
   ]
  },
  {
   "cell_type": "markdown",
   "id": "02c5fcf4",
   "metadata": {},
   "source": [
    "### 4.1 Program to find the multiplication of the matrix"
   ]
  },
  {
   "cell_type": "code",
   "execution_count": 42,
   "id": "b5753511",
   "metadata": {},
   "outputs": [
    {
     "name": "stdout",
     "output_type": "stream",
     "text": [
      "[20, 32, 44]\n",
      "[19, 33, 47]\n",
      "[29, 47, 65]\n"
     ]
    }
   ],
   "source": [
    "# 3*3\n",
    "X =[[1, 2, 3],\n",
    "    [4, 1, 2],\n",
    "    [2, 3, 4]]\n",
    "# 3*3\n",
    "Y = [[2, 3, 4],\n",
    "     [4, 5, 6],\n",
    "     [6, 7, 8]]\n",
    "\n",
    "# result is 2*3\n",
    "result = [[0, 0, 0],\n",
    "          [0, 0, 0],\n",
    "          [0, 0, 0]]\n",
    "\n",
    "# iterate through rows of X\n",
    "for i in range(len(X)):\n",
    "# iterate through columns of Y:\n",
    "    for j in range(len(Y[0])):\n",
    "# iterate through row of Y:\n",
    "        for k in range(len(Y)):\n",
    "            result[i][j] += X[i][k]*Y[k][j]\n",
    "for r in result:\n",
    "    print(r)\n",
    "        "
   ]
  },
  {
   "cell_type": "markdown",
   "id": "52ee0a19",
   "metadata": {},
   "source": [
    "### 5. Add a matrix of 2*2 using nested loop and list comprehension"
   ]
  },
  {
   "cell_type": "markdown",
   "id": "01f79966",
   "metadata": {},
   "source": [
    "X = [[2, 4],\n",
    "    [5, 6]]\n",
    "\n",
    "Y = [[3, 1],\n",
    "    [6, 2]]"
   ]
  },
  {
   "cell_type": "code",
   "execution_count": 44,
   "id": "99743094",
   "metadata": {},
   "outputs": [
    {
     "name": "stdout",
     "output_type": "stream",
     "text": [
      "[5, 5]\n",
      "[11, 8]\n"
     ]
    }
   ],
   "source": [
    "# 2*2 matrix\n",
    "X = [[2, 4],\n",
    "    [5, 6]]\n",
    "# 2*2 matrix\n",
    "Y = [[3, 1],\n",
    "    [6, 2]]\n",
    "#result is 2*2     \n",
    "result=[[0,0],\n",
    "       [0,0]] \n",
    "# itrate through row of X:\n",
    "for i in range(len(X)):\n",
    "# itrate through columns of Y:    \n",
    "     for j in range(len(X)):\n",
    "        result=[[X[i][j]+Y[i][j] for j in range(len(X[0]))] for i in range(len(X))]\n",
    "for r in result:\n",
    "     print(r) "
   ]
  },
  {
   "cell_type": "code",
   "execution_count": null,
   "id": "0e4bc6b6",
   "metadata": {},
   "outputs": [],
   "source": []
  }
 ],
 "metadata": {
  "kernelspec": {
   "display_name": "Python 3 (ipykernel)",
   "language": "python",
   "name": "python3"
  },
  "language_info": {
   "codemirror_mode": {
    "name": "ipython",
    "version": 3
   },
   "file_extension": ".py",
   "mimetype": "text/x-python",
   "name": "python",
   "nbconvert_exporter": "python",
   "pygments_lexer": "ipython3",
   "version": "3.9.12"
  }
 },
 "nbformat": 4,
 "nbformat_minor": 5
}
