{
 "cells": [
  {
   "cell_type": "markdown",
   "id": "eaa6f910",
   "metadata": {},
   "source": [
    "#### 1 Create a list of your name,age,field,location using[] and list constructor."
   ]
  },
  {
   "cell_type": "code",
   "execution_count": 1,
   "id": "5caa2b2d",
   "metadata": {},
   "outputs": [
    {
     "name": "stdout",
     "output_type": "stream",
     "text": [
      "['sonal', 24, 'Electrical Engg', 'Airoli']\n"
     ]
    }
   ],
   "source": [
    "a=[\"sonal\",24,\"Electrical Engg\",\"Airoli\"]\n",
    "print(a)"
   ]
  },
  {
   "cell_type": "code",
   "execution_count": 3,
   "id": "80ecaeea",
   "metadata": {},
   "outputs": [
    {
     "name": "stdout",
     "output_type": "stream",
     "text": [
      "['sonal', 24, 'Electrical Engg', 'Airoli']\n"
     ]
    }
   ],
   "source": [
    "a=list((\"sonal\",24,\"Electrical Engg\",\"Airoli\"))\n",
    "print(a)"
   ]
  },
  {
   "cell_type": "markdown",
   "id": "173e81d5",
   "metadata": {},
   "source": [
    "#### 2 print only your field using index method"
   ]
  },
  {
   "cell_type": "code",
   "execution_count": 4,
   "id": "5d45db14",
   "metadata": {},
   "outputs": [
    {
     "name": "stdout",
     "output_type": "stream",
     "text": [
      "Electrical Engg\n"
     ]
    }
   ],
   "source": [
    "print(a[2])"
   ]
  },
  {
   "cell_type": "markdown",
   "id": "261a671a",
   "metadata": {},
   "source": [
    "#### 3 print the position of location element"
   ]
  },
  {
   "cell_type": "code",
   "execution_count": 7,
   "id": "f0e9c403",
   "metadata": {},
   "outputs": [
    {
     "name": "stdout",
     "output_type": "stream",
     "text": [
      "3\n"
     ]
    }
   ],
   "source": [
    "a=[\"sonal\",24,\"Electrical Engg\",\"Airoli\"]\n",
    "x=a.index(\"Airoli\")\n",
    "print(x)"
   ]
  },
  {
   "cell_type": "markdown",
   "id": "4b6e6046",
   "metadata": {},
   "source": [
    "#### 4 print element btw age and locaton ,using forward and backward indexing"
   ]
  },
  {
   "cell_type": "code",
   "execution_count": 9,
   "id": "ada4b44a",
   "metadata": {},
   "outputs": [
    {
     "data": {
      "text/plain": [
       "[24, 'Electrical Engg', 'Airoli']"
      ]
     },
     "execution_count": 9,
     "metadata": {},
     "output_type": "execute_result"
    }
   ],
   "source": [
    "#Forward indexing\n",
    "a=[\"sonal\",24,\"Electrical Engg\",\"Airoli\"]\n",
    "a[1:4]"
   ]
  },
  {
   "cell_type": "code",
   "execution_count": 10,
   "id": "f155bb56",
   "metadata": {},
   "outputs": [
    {
     "data": {
      "text/plain": [
       "['Airoli', 'Electrical Engg', 24]"
      ]
     },
     "execution_count": 10,
     "metadata": {},
     "output_type": "execute_result"
    }
   ],
   "source": [
    "#Reverse indexing\n",
    "a[-1:-4:-1]"
   ]
  },
  {
   "cell_type": "markdown",
   "id": "178abe7c",
   "metadata": {},
   "source": [
    "### 5 replace the element of name with surname"
   ]
  },
  {
   "cell_type": "code",
   "execution_count": 3,
   "id": "76ae0685",
   "metadata": {},
   "outputs": [
    {
     "data": {
      "text/plain": [
       "['sawarkar', 24, 'Electrical Engg', 'Airoli']"
      ]
     },
     "execution_count": 3,
     "metadata": {},
     "output_type": "execute_result"
    }
   ],
   "source": [
    "a=[\"sonal\",24,\"Electrical Engg\",\"Airoli\"]\n",
    "a[0] = \"sawarkar\"\n",
    "a"
   ]
  },
  {
   "cell_type": "markdown",
   "id": "e0e935d7",
   "metadata": {},
   "source": [
    "### 6 replace the element of name ,age and field"
   ]
  },
  {
   "cell_type": "code",
   "execution_count": 4,
   "id": "3bf02942",
   "metadata": {},
   "outputs": [
    {
     "data": {
      "text/plain": [
       "['rahul', 26, 'civil Engg', 'Airoli']"
      ]
     },
     "execution_count": 4,
     "metadata": {},
     "output_type": "execute_result"
    }
   ],
   "source": [
    "a=[\"sonal\",24,\"Electrical Engg\",\"Airoli\"]\n",
    "a[0:3]=(\"rahul\",26,\"civil Engg\")\n",
    "a"
   ]
  },
  {
   "cell_type": "markdown",
   "id": "139daacc",
   "metadata": {},
   "source": [
    "### 7 replace the element of name,age with only surname"
   ]
  },
  {
   "cell_type": "code",
   "execution_count": 7,
   "id": "a8e939cd",
   "metadata": {},
   "outputs": [
    {
     "name": "stdout",
     "output_type": "stream",
     "text": [
      "['Sawarkar', 'Electrical Engg', 'Airoli']\n"
     ]
    }
   ],
   "source": [
    "a=[\"sonal\",24,\"Electrical Engg\",\"Airoli\"]\n",
    "a[0:2]=[\"Sawarkar\"]\n",
    "print(a)"
   ]
  },
  {
   "cell_type": "code",
   "execution_count": 8,
   "id": "4f1cad9d",
   "metadata": {},
   "outputs": [
    {
     "data": {
      "text/plain": [
       "['Sawarkar', 'Electrical Engg', 'Airoli']"
      ]
     },
     "execution_count": 8,
     "metadata": {},
     "output_type": "execute_result"
    }
   ],
   "source": [
    "a=[\"sonal\",24,\"Electrical Engg\",\"Airoli\"]\n",
    "a[0:2]=[\"Sawarkar\"]\n",
    "a"
   ]
  },
  {
   "cell_type": "markdown",
   "id": "429af5d4",
   "metadata": {},
   "source": [
    "#### 8 replace the element of name with your nickname and surname'"
   ]
  },
  {
   "cell_type": "code",
   "execution_count": 12,
   "id": "b9259b44",
   "metadata": {},
   "outputs": [
    {
     "data": {
      "text/plain": [
       "['Butterfly', 'Sawarkar', 24, 'Electrical Engg', 'Airoli']"
      ]
     },
     "execution_count": 12,
     "metadata": {},
     "output_type": "execute_result"
    }
   ],
   "source": [
    "a=[\"sonal\",24,\"Electrical Engg\",\"Airoli\"]\n",
    "a[0:1]=(\"Butterfly\",\"Sawarkar\")\n",
    "a"
   ]
  },
  {
   "cell_type": "code",
   "execution_count": 13,
   "id": "9e177e6d",
   "metadata": {},
   "outputs": [
    {
     "data": {
      "text/plain": [
       "['Butterfly', 'Sawarkar', 24, 'Electrical Engg', 'Airoli']"
      ]
     },
     "execution_count": 13,
     "metadata": {},
     "output_type": "execute_result"
    }
   ],
   "source": [
    "a=[\"sonal\",24,\"Electrical Engg\",\"Airoli\"]\n",
    "a[0:1]=[\"Butterfly\",\"Sawarkar\"]\n",
    "a"
   ]
  },
  {
   "cell_type": "markdown",
   "id": "faaf1c34",
   "metadata": {},
   "source": [
    "### 9 add your surname in the list after your first name"
   ]
  },
  {
   "cell_type": "code",
   "execution_count": 14,
   "id": "5df02698",
   "metadata": {},
   "outputs": [
    {
     "data": {
      "text/plain": [
       "['sonal', 'sawarkar', 24, 'Electrical Engg', 'Airoli']"
      ]
     },
     "execution_count": 14,
     "metadata": {},
     "output_type": "execute_result"
    }
   ],
   "source": [
    "a=[\"sonal\",24,\"Electrical Engg\",\"Airoli\"]\n",
    "a.insert(1,\"sawarkar\")\n",
    "a"
   ]
  },
  {
   "cell_type": "markdown",
   "id": "33feac7c",
   "metadata": {},
   "source": [
    "### 10 add your only one hobby at the end of the list"
   ]
  },
  {
   "cell_type": "code",
   "execution_count": 17,
   "id": "fcf0c4ce",
   "metadata": {},
   "outputs": [
    {
     "data": {
      "text/plain": [
       "['sonal', 24, 'Electrical Engg', 'Airoli', 'Reading_novels']"
      ]
     },
     "execution_count": 17,
     "metadata": {},
     "output_type": "execute_result"
    }
   ],
   "source": [
    "a=[\"sonal\",24,\"Electrical Engg\",\"Airoli\"]\n",
    "a.insert(4,\"Reading_novels\")\n",
    "a"
   ]
  },
  {
   "cell_type": "markdown",
   "id": "cc7755ed",
   "metadata": {},
   "source": [
    "### 11 add your n-numbers of hobbies at the end of list"
   ]
  },
  {
   "cell_type": "code",
   "execution_count": 24,
   "id": "911e5cef",
   "metadata": {},
   "outputs": [
    {
     "name": "stdout",
     "output_type": "stream",
     "text": [
      "['sonal', 24, 'Electrical Engg', 'Airoli', 'Learn_to_new_things', 'Drawing', 'Listening_Songs', 'Reading_Novels', 'cooking']\n"
     ]
    }
   ],
   "source": [
    "a=[\"sonal\",24,\"Electrical Engg\",\"Airoli\"]\n",
    "a.extend([\"Learn_to_new_things\",\"Drawing\",\"Listening_Songs\",\"Reading_Novels\",\"cooking\"])\n",
    "print(a)"
   ]
  },
  {
   "cell_type": "markdown",
   "id": "abc67a39",
   "metadata": {},
   "source": [
    "### 12 remove your location from list\n",
    "\n"
   ]
  },
  {
   "cell_type": "code",
   "execution_count": 27,
   "id": "ce9bf83f",
   "metadata": {},
   "outputs": [
    {
     "data": {
      "text/plain": [
       "['sonal', 24, 'Electrical Engg']"
      ]
     },
     "execution_count": 27,
     "metadata": {},
     "output_type": "execute_result"
    }
   ],
   "source": [
    "a=[\"sonal\",24,\"Electrical Engg\",\"Airoli\"]\n",
    "a.remove(\"Airoli\")\n",
    "a\n"
   ]
  },
  {
   "cell_type": "markdown",
   "id": "f0251806",
   "metadata": {},
   "source": [
    "#### 13 remove your age from list[using 2 methods]"
   ]
  },
  {
   "cell_type": "code",
   "execution_count": 29,
   "id": "896d7759",
   "metadata": {},
   "outputs": [
    {
     "data": {
      "text/plain": [
       "['sonal', 'Electrical Engg', 'Airoli']"
      ]
     },
     "execution_count": 29,
     "metadata": {},
     "output_type": "execute_result"
    }
   ],
   "source": [
    "#pop() Method:\n",
    "a=[\"sonal\",24,\"Electrical Engg\",\"Airoli\"]\n",
    "a.pop(1)\n",
    "a"
   ]
  },
  {
   "cell_type": "code",
   "execution_count": 32,
   "id": "bd1c60c1",
   "metadata": {},
   "outputs": [
    {
     "data": {
      "text/plain": [
       "['sonal', 'Electrical Engg', 'Airoli']"
      ]
     },
     "execution_count": 32,
     "metadata": {},
     "output_type": "execute_result"
    }
   ],
   "source": [
    "#del[] Method:\n",
    "a=[\"sonal\",24,\"Electrical Engg\",\"Airoli\"]\n",
    "del a[1]\n",
    "a"
   ]
  },
  {
   "cell_type": "markdown",
   "id": "b6d8dd51",
   "metadata": {},
   "source": [
    "### 14 remove last element from the list"
   ]
  },
  {
   "cell_type": "code",
   "execution_count": 39,
   "id": "22483c6c",
   "metadata": {},
   "outputs": [
    {
     "data": {
      "text/plain": [
       "'Airoli'"
      ]
     },
     "execution_count": 39,
     "metadata": {},
     "output_type": "execute_result"
    }
   ],
   "source": [
    "a=[\"sonal\",24,\"Electrical Engg\",\"Airoli\"]\n",
    "a.pop()"
   ]
  },
  {
   "cell_type": "markdown",
   "id": "1a776832",
   "metadata": {},
   "source": [
    "### 15 remove all element from the list(empty)"
   ]
  },
  {
   "cell_type": "code",
   "execution_count": 44,
   "id": "11717f0c",
   "metadata": {},
   "outputs": [
    {
     "data": {
      "text/plain": [
       "[]"
      ]
     },
     "execution_count": 44,
     "metadata": {},
     "output_type": "execute_result"
    }
   ],
   "source": [
    "a=[\"sonal\",24,\"Electrical Engg\",\"Airoli\"]\n",
    "a.clear()\n",
    "a"
   ]
  },
  {
   "cell_type": "code",
   "execution_count": 45,
   "id": "44e52a7c",
   "metadata": {},
   "outputs": [
    {
     "name": "stdout",
     "output_type": "stream",
     "text": [
      "[]\n"
     ]
    }
   ],
   "source": [
    "a=[\"sonal\",24,\"Electrical Engg\",\"Airoli\"]\n",
    "a.clear()\n",
    "print(a)"
   ]
  },
  {
   "cell_type": "markdown",
   "id": "091277fc",
   "metadata": {},
   "source": [
    "### 16 delete the list"
   ]
  },
  {
   "cell_type": "code",
   "execution_count": 53,
   "id": "1b476c09",
   "metadata": {},
   "outputs": [
    {
     "name": "stdout",
     "output_type": "stream",
     "text": [
      "[]\n"
     ]
    }
   ],
   "source": [
    "a=[\"sonal\",24,\"Electrical Engg\",\"Airoli\"]\n",
    "del a[0:4]\n",
    "print(a)\n"
   ]
  }
 ],
 "metadata": {
  "kernelspec": {
   "display_name": "Python 3 (ipykernel)",
   "language": "python",
   "name": "python3"
  },
  "language_info": {
   "codemirror_mode": {
    "name": "ipython",
    "version": 3
   },
   "file_extension": ".py",
   "mimetype": "text/x-python",
   "name": "python",
   "nbconvert_exporter": "python",
   "pygments_lexer": "ipython3",
   "version": "3.9.12"
  }
 },
 "nbformat": 4,
 "nbformat_minor": 5
}
