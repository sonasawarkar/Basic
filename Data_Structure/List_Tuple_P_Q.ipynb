{
 "cells": [
  {
   "cell_type": "markdown",
   "id": "9b72e5a4",
   "metadata": {},
   "source": [
    "### 1. Make new list from two existing list which contain duplicate values, output should be unique."
   ]
  },
  {
   "cell_type": "code",
   "execution_count": 1,
   "id": "8b0401cd",
   "metadata": {},
   "outputs": [
    {
     "name": "stdout",
     "output_type": "stream",
     "text": [
      "[1, 2, 3, 4, 5, 6]\n"
     ]
    }
   ],
   "source": [
    "a=[1,2,2,3]\n",
    "b=[4,5,6,6]\n",
    "a=set((1,2,2,3))\n",
    "b=set((4,5,6,6))\n",
    "c=a|b\n",
    "c=list((a|b))\n",
    "print(c)"
   ]
  },
  {
   "cell_type": "markdown",
   "id": "4e8075a4",
   "metadata": {},
   "source": [
    "### 2. Find unique tuple from existing tuple which contains lot of duplicate values."
   ]
  },
  {
   "cell_type": "code",
   "execution_count": 2,
   "id": "73693135",
   "metadata": {},
   "outputs": [
    {
     "name": "stdout",
     "output_type": "stream",
     "text": [
      "(1, 2, 3, 4)\n"
     ]
    }
   ],
   "source": [
    "a=(1,1,1,4)\n",
    "b=(2,3,4,4)\n",
    "a=set((1,1,1,4))\n",
    "b=set((2,3,4,4))\n",
    "c=a|b\n",
    "c=tuple((a|b))\n",
    "print(c)"
   ]
  },
  {
   "cell_type": "markdown",
   "id": "a79d8e72",
   "metadata": {},
   "source": [
    "### Q.3.  A = [1,2,3,4,5]\n",
    "    B = [1,6,7,8]\n",
    "    C = [8,9,10]\n",
    "\n",
    " Expected output : [1,2,3,4,5,6,7,8,9,10] & [1,8]"
   ]
  },
  {
   "cell_type": "code",
   "execution_count": 3,
   "id": "51d7e66e",
   "metadata": {},
   "outputs": [
    {
     "name": "stdout",
     "output_type": "stream",
     "text": [
      "[1, 2, 3, 4, 5, 6, 7, 8, 9, 10]\n",
      "[1, 8]\n"
     ]
    }
   ],
   "source": [
    "A = [1,2,3,4,5]\n",
    "B = [1,6,7,8]\n",
    "C = [8,9,10]\n",
    "A=set((1,2,3,4,5))\n",
    "B=set((1,6,7,8))\n",
    "C=set((8,9,10))\n",
    "D1=A|B|C\n",
    "D1=list((A|B|C))\n",
    "D1=list((D1))\n",
    "D2=A&B\n",
    "D3=B&C\n",
    "D2=list((D2))\n",
    "D3=list((D3))\n",
    "print(D1)\n",
    "print(D2+D3) "
   ]
  }
 ],
 "metadata": {
  "kernelspec": {
   "display_name": "Python 3 (ipykernel)",
   "language": "python",
   "name": "python3"
  },
  "language_info": {
   "codemirror_mode": {
    "name": "ipython",
    "version": 3
   },
   "file_extension": ".py",
   "mimetype": "text/x-python",
   "name": "python",
   "nbconvert_exporter": "python",
   "pygments_lexer": "ipython3",
   "version": "3.9.12"
  }
 },
 "nbformat": 4,
 "nbformat_minor": 5
}
