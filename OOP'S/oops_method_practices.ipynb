{
 "cells": [
  {
   "cell_type": "markdown",
   "id": "b6f15ad9",
   "metadata": {},
   "source": [
    "## Encapsulation:"
   ]
  },
  {
   "cell_type": "code",
   "execution_count": 21,
   "id": "e36b9c50",
   "metadata": {},
   "outputs": [
    {
     "name": "stdout",
     "output_type": "stream",
     "text": [
      "BMW 700 has a mileage of 28 and it costs 1500000.\n",
      "28\n"
     ]
    },
    {
     "ename": "AttributeError",
     "evalue": "'audi' object has no attribute '__name'",
     "output_type": "error",
     "traceback": [
      "\u001b[1;31m---------------------------------------------------------------------------\u001b[0m",
      "\u001b[1;31mAttributeError\u001b[0m                            Traceback (most recent call last)",
      "Input \u001b[1;32mIn [21]\u001b[0m, in \u001b[0;36m<cell line: 16>\u001b[1;34m()\u001b[0m\n\u001b[0;32m     13\u001b[0m \u001b[38;5;28mprint\u001b[39m(obj\u001b[38;5;241m.\u001b[39mprice(\u001b[38;5;241m1500000\u001b[39m))\n\u001b[0;32m     15\u001b[0m \u001b[38;5;28mprint\u001b[39m(obj\u001b[38;5;241m.\u001b[39mmileage)\n\u001b[1;32m---> 16\u001b[0m \u001b[38;5;28mprint\u001b[39m(\u001b[43mobj\u001b[49m\u001b[38;5;241;43m.\u001b[39;49m\u001b[43m__name\u001b[49m)\n",
      "\u001b[1;31mAttributeError\u001b[0m: 'audi' object has no attribute '__name'"
     ]
    }
   ],
   "source": [
    "class car:\n",
    "    def __init__ (self,name,mileage):\n",
    "        self.name=name\n",
    "        self.mileage=mileage\n",
    "        \n",
    "    def price(self,price):\n",
    "        return f\"{self.name} has a mileage of {self.mileage} and it costs {price}.\"\n",
    "\n",
    "class audi(car):\n",
    "    pass\n",
    "\n",
    "obj=audi(\"BMW 700\",28)\n",
    "print(obj.price(1500000))\n",
    "\n",
    "print(obj.mileage)\n",
    "print(obj.__name)"
   ]
  },
  {
   "cell_type": "markdown",
   "id": "d22152f2",
   "metadata": {},
   "source": [
    "## Inheritance"
   ]
  },
  {
   "cell_type": "code",
   "execution_count": 3,
   "id": "93de6ab5",
   "metadata": {},
   "outputs": [
    {
     "name": "stdout",
     "output_type": "stream",
     "text": [
      "BMW has colour Red with model A-173. It givies mileage of 24kms per litre.\n",
      "Audi has colour Blue with model M-123. It runs at a speed of 230 kms/hour..\n"
     ]
    }
   ],
   "source": [
    "class car:\n",
    "    def __init__(self,name, colour, model):\n",
    "        self.name=name\n",
    "        self.colour=colour\n",
    "        self.model=model\n",
    "    \n",
    "    def mileage(self,mileage):\n",
    "        return f\"{self.name} has colour {self.colour} with model {self.model}. It givies mileage of {mileage}kms per litre.\"\n",
    "    \n",
    "class BMW(car):\n",
    "    pass\n",
    "\n",
    "class audi(car):\n",
    "    def spec(self,performance):\n",
    "        return f\"{self.name} has colour {self.colour} with model {self.model}. {performance}.\"\n",
    "    \n",
    "BMW=BMW(\"BMW\",\"Red\",\"A-173\")\n",
    "print(BMW.mileage(24))\n",
    "\n",
    "Audi=audi(\"Audi\",\"Blue\",\"M-123\")\n",
    "print(Audi.spec(\"It runs at a speed of 230 kms/hour.\"))"
   ]
  },
  {
   "cell_type": "markdown",
   "id": "1249fdac",
   "metadata": {},
   "source": [
    "## Inheritance in Python Class"
   ]
  },
  {
   "cell_type": "code",
   "execution_count": 20,
   "id": "b3bb07fc",
   "metadata": {},
   "outputs": [
    {
     "name": "stdout",
     "output_type": "stream",
     "text": [
      "Ajay. Age is 20 stnd. \n",
      "living in Ghansoli Gender is male. Hobby is Reading\n",
      "20\n",
      "male\n"
     ]
    },
    {
     "ename": "AttributeError",
     "evalue": "'python' object has no attribute '__name'",
     "output_type": "error",
     "traceback": [
      "\u001b[1;31m---------------------------------------------------------------------------\u001b[0m",
      "\u001b[1;31mAttributeError\u001b[0m                            Traceback (most recent call last)",
      "Input \u001b[1;32mIn [20]\u001b[0m, in \u001b[0;36m<cell line: 20>\u001b[1;34m()\u001b[0m\n\u001b[0;32m     18\u001b[0m \u001b[38;5;28mprint\u001b[39m(stn\u001b[38;5;241m.\u001b[39mage)\n\u001b[0;32m     19\u001b[0m \u001b[38;5;28mprint\u001b[39m(stn\u001b[38;5;241m.\u001b[39mgender)\n\u001b[1;32m---> 20\u001b[0m \u001b[38;5;28mprint\u001b[39m(\u001b[43mstn\u001b[49m\u001b[38;5;241;43m.\u001b[39;49m\u001b[43m__name\u001b[49m)\n\u001b[0;32m     21\u001b[0m \u001b[38;5;28mprint\u001b[39m(stn\u001b[38;5;241m.\u001b[39m__place)\n",
      "\u001b[1;31mAttributeError\u001b[0m: 'python' object has no attribute '__name'"
     ]
    }
   ],
   "source": [
    "#Inheritance:\n",
    "class students:\n",
    "    def __init__ (self,name,age,place,gender):\n",
    "        self.__name=name\n",
    "        self.age=age\n",
    "        self.__place=place\n",
    "        self.gender=gender\n",
    "        \n",
    "    def info(self,hobby):\n",
    "        return f\"{self.__name}. Age is {self.age} stnd. \\nliving in {self.__place} Gender is {self.gender}. Hobby is {hobby}\"\n",
    "    \n",
    "class python(students):\n",
    "    pass\n",
    "\n",
    "stn=python('Ajay',20,'Ghansoli','male')\n",
    "print(stn.info(\"Reading\"))\n",
    "\n",
    "print(stn.age)\n",
    "print(stn.gender)\n",
    "print(stn.__name)\n",
    "print(stn.__place)"
   ]
  },
  {
   "cell_type": "code",
   "execution_count": 13,
   "id": "5cb3a746",
   "metadata": {},
   "outputs": [
    {
     "name": "stdout",
     "output_type": "stream",
     "text": [
      "The seating capacity of a Volvo is 50 passengers.\n"
     ]
    }
   ],
   "source": [
    "class vehicle():\n",
    "    \n",
    "    def __init__(self,name,max_speed,mileage):\n",
    "        self.name=name\n",
    "        self.max_speed=max_speed\n",
    "        self.mileage=mileage\n",
    "        \n",
    "    def seating_capacity(self,capacity):\n",
    "        return f\"The seating capacity of a {self.name} is {capacity} passengers.\"\n",
    "    \n",
    "class Bus(vehicle):\n",
    "    \n",
    "#assign default value to capacity:\n",
    "\n",
    "    def seating_capacity(self,capacity=50):\n",
    "        return super().seating_capacity(capacity=50)\n",
    "\n",
    "obj=Bus(\"Volvo\",200,30)\n",
    "print(obj.seating_capacity(90))"
   ]
  },
  {
   "cell_type": "code",
   "execution_count": 23,
   "id": "7f5eb46d",
   "metadata": {},
   "outputs": [
    {
     "name": "stdout",
     "output_type": "stream",
     "text": [
      "The name of vehicle is: school volve. \n",
      "color of school volve is white. school volve's mileage is 12. school volve's maximum speed is 180. \n",
      "\n",
      "The name of vehicle is: Audi. \n",
      "color of Audi is white. Audi's mileage is 20. Audi's maximum speed is 300. \n",
      "\n"
     ]
    }
   ],
   "source": [
    "class vehicle():\n",
    "    # class attribute\n",
    "    color = \"white\"\n",
    "    \n",
    "    def __init__(self,name,max_speed,mileage):\n",
    "        self.name=name\n",
    "        self.max_speed=max_speed\n",
    "        self.mileage=mileage\n",
    "        \n",
    "    def info(self):\n",
    "        return f\"The name of vehicle is: {self.name}. \\ncolor of {self.name} is {self.color}. {self.name}'s mileage is {self.mileage}. {self.name}'s maximum speed is {self.max_speed}. \\n\"\n",
    "    \n",
    "class Bus(vehicle):\n",
    "    pass\n",
    "\n",
    "class car(vehicle):\n",
    "    pass\n",
    "\n",
    "school_bus=Bus(\"school volve\",180,12)\n",
    "print(school_bus.info())\n",
    "\n",
    "car=car(\"Audi\",300,20)\n",
    "print(car.info())"
   ]
  }
 ],
 "metadata": {
  "kernelspec": {
   "display_name": "Python 3 (ipykernel)",
   "language": "python",
   "name": "python3"
  },
  "language_info": {
   "codemirror_mode": {
    "name": "ipython",
    "version": 3
   },
   "file_extension": ".py",
   "mimetype": "text/x-python",
   "name": "python",
   "nbconvert_exporter": "python",
   "pygments_lexer": "ipython3",
   "version": "3.9.12"
  }
 },
 "nbformat": 4,
 "nbformat_minor": 5
}
