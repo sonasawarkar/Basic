{
 "cells": [
  {
   "cell_type": "markdown",
   "id": "c2869f58",
   "metadata": {},
   "source": [
    "#### Q1. Write a program to print first 10 even numbers."
   ]
  },
  {
   "cell_type": "code",
   "execution_count": 4,
   "id": "7fcdd4fa",
   "metadata": {
    "scrolled": true
   },
   "outputs": [
    {
     "name": "stdout",
     "output_type": "stream",
     "text": [
      "1\n",
      "3\n",
      "5\n",
      "7\n",
      "9\n",
      "11\n",
      "13\n",
      "15\n",
      "17\n",
      "19\n"
     ]
    }
   ],
   "source": [
    "for i in range (1,20,2):\n",
    "    print(i)\n",
    "    "
   ]
  },
  {
   "cell_type": "markdown",
   "id": "8b78a669",
   "metadata": {},
   "source": [
    "#### Q2.Write a program to print first 10 odd numbers."
   ]
  },
  {
   "cell_type": "code",
   "execution_count": 3,
   "id": "a817618f",
   "metadata": {
    "scrolled": true
   },
   "outputs": [
    {
     "name": "stdout",
     "output_type": "stream",
     "text": [
      "1 3 5 7 9 11 13 15 17 19 "
     ]
    }
   ],
   "source": [
    "for i in range (1,21,2):\n",
    "    print(i,end=\" \")\n",
    "    "
   ]
  },
  {
   "cell_type": "markdown",
   "id": "a1b5100a",
   "metadata": {},
   "source": [
    "#### Q3. Write a program to print first 10 even numbers in reverse order.\n"
   ]
  },
  {
   "cell_type": "code",
   "execution_count": 4,
   "id": "8ed873fe",
   "metadata": {},
   "outputs": [
    {
     "name": "stdout",
     "output_type": "stream",
     "text": [
      "20 18 16 14 12 10 8 6 4 2 "
     ]
    }
   ],
   "source": [
    "for i in range (20,1,-2):\n",
    "    print(i, end=\" \")"
   ]
  },
  {
   "cell_type": "markdown",
   "id": "1ecdba9d",
   "metadata": {},
   "source": [
    "#### Q4. Write a program to find the factorial of a number."
   ]
  },
  {
   "cell_type": "code",
   "execution_count": 5,
   "id": "7038b659",
   "metadata": {},
   "outputs": [
    {
     "name": "stdout",
     "output_type": "stream",
     "text": [
      "Enter the number:6\n",
      "The factorial 6 is 720\n"
     ]
    }
   ],
   "source": [
    "n1=int(input(\"Enter the number:\"))\n",
    "f1=1\n",
    "for i in range (1,n1+1):\n",
    "    f1=f1*i\n",
    "print(\"The factorial\",n1,\"is\",f1)"
   ]
  },
  {
   "cell_type": "code",
   "execution_count": 29,
   "id": "50d28a22",
   "metadata": {},
   "outputs": [
    {
     "name": "stdout",
     "output_type": "stream",
     "text": [
      "Enter the number:5\n",
      "The factorial of 5 is 120\n"
     ]
    }
   ],
   "source": [
    "#To find a factorial:\n",
    "n = int(input(\"Enter the number:\"))   \n",
    "f = 1    \n",
    "if n == 0:    \n",
    "    print(\"The factorial of 0 is 1\")    \n",
    "else:\n",
    "    for i in range(1,n+1):\n",
    "        f = f*i    \n",
    "print(\"The factorial of\",n,\"is\",f)"
   ]
  },
  {
   "cell_type": "markdown",
   "id": "c330d30b",
   "metadata": {},
   "source": [
    "### Q5. Write a program to check whether a number is prime or not."
   ]
  },
  {
   "cell_type": "code",
   "execution_count": 16,
   "id": "46cfde43",
   "metadata": {},
   "outputs": [
    {
     "name": "stdout",
     "output_type": "stream",
     "text": [
      "Enter the number:2\n",
      "is a not prime number\n"
     ]
    }
   ],
   "source": [
    "#To check whether a number is prime or not:\n",
    "   \n",
    "num = int(input(\"Enter the number:\"))\n",
    "k=0\n",
    "if num==0 and num==1:\n",
    "    for i in range(2,num):\n",
    "        if num%i==0:\n",
    "            k+=1\n",
    "if k==1:\n",
    "    print(\"It is prime number\")\n",
    "else:\n",
    "    print(\"It is not prime number\")"
   ]
  },
  {
   "cell_type": "markdown",
   "id": "171eade0",
   "metadata": {},
   "source": [
    "#### Q6. Write a program to print numbers from 1 to 20 except multiple of 2 & 3.\n"
   ]
  },
  {
   "cell_type": "code",
   "execution_count": 23,
   "id": "f603c2dc",
   "metadata": {},
   "outputs": [
    {
     "name": "stdout",
     "output_type": "stream",
     "text": [
      "1 5 7 11 13 17 19 "
     ]
    }
   ],
   "source": [
    "for i in range(1,20):\n",
    "    if i%2!=0 and i%3!= 0:\n",
    "        print(i, end = \" \")"
   ]
  },
  {
   "cell_type": "markdown",
   "id": "552a1497",
   "metadata": {},
   "source": [
    "#### Q7. Write a program to accept 10 numbers from the user and display it’s average. "
   ]
  },
  {
   "cell_type": "code",
   "execution_count": 24,
   "id": "c241b449",
   "metadata": {},
   "outputs": [
    {
     "name": "stdout",
     "output_type": "stream",
     "text": [
      "Enter the number:1\n",
      "Enter the number:1\n",
      "Enter the number:1\n",
      "Enter the number:1\n",
      "Enter the number:1\n",
      "Enter the number:1\n",
      "Enter the number:1\n",
      "Enter the number:1\n",
      "Enter the number:1\n",
      "Enter the number:1\n",
      "10 Average of number is: 1.0\n"
     ]
    }
   ],
   "source": [
    "sum=0\n",
    "for c in range (10):\n",
    "    num=int(input(\"Enter the number:\"))\n",
    "    sum=sum+num\n",
    "    Avg=sum/10\n",
    "print(sum,\"Average of number is:\",Avg)"
   ]
  },
  {
   "cell_type": "markdown",
   "id": "6ac88d3d",
   "metadata": {},
   "source": [
    "#### Q8. Write a program to accept 10 numbers from the user and display the largest & smallest number number."
   ]
  },
  {
   "cell_type": "code",
   "execution_count": 29,
   "id": "6cec27fe",
   "metadata": {},
   "outputs": [
    {
     "name": "stdout",
     "output_type": "stream",
     "text": [
      "Enter the numbers:222\n",
      "Enter the numbers:1\n",
      "Enter the numbers:7\n",
      "Enter the numbers:4\n",
      "Enter the numbers:3\n",
      "Enter the numbers:9\n",
      "Enter the numbers:2\n",
      "Enter the numbers:0\n",
      "Enter the numbers:44\n",
      "Enter the numbers:77\n",
      "Max number in list is 222\n",
      "Min number in list is 0\n"
     ]
    }
   ],
   "source": [
    "a=[]\n",
    "for i in range (10):\n",
    "    num=int(input(\"Enter the numbers:\"))\n",
    "    a.append(num)\n",
    "print(\"Max number in list is\",max(a))\n",
    "print(\"Min number in list is\",min(a))"
   ]
  },
  {
   "cell_type": "markdown",
   "id": "7506975b",
   "metadata": {},
   "source": [
    "#### Q9. Write a program to print only odd numbers from the given list using for loop. L = [23, 45, 32, 25, 46, 33, 71, 90]"
   ]
  },
  {
   "cell_type": "code",
   "execution_count": 35,
   "id": "8cab0441",
   "metadata": {},
   "outputs": [
    {
     "name": "stdout",
     "output_type": "stream",
     "text": [
      "23 45 25 33 71 "
     ]
    }
   ],
   "source": [
    "L = [23, 45, 32, 25, 46, 33, 71, 90]\n",
    "for i in L:\n",
    "    if i%2!=0:\n",
    "        print(i,end=\" \")\n",
    "    "
   ]
  },
  {
   "cell_type": "markdown",
   "id": "205c1e9b",
   "metadata": {},
   "source": [
    "### Q10. Write a program to print the following pattern"
   ]
  },
  {
   "cell_type": "markdown",
   "id": "9eabda70",
   "metadata": {},
   "source": [
    "5 5 5 5 5\n",
    "4 4 4 4\n",
    "3 3 3\n",
    "2 2\n",
    "1"
   ]
  },
  {
   "cell_type": "code",
   "execution_count": 11,
   "id": "de7b222c",
   "metadata": {},
   "outputs": [
    {
     "name": "stdout",
     "output_type": "stream",
     "text": [
      "5 5 5 5 5 \n",
      "4 4 4 4 \n",
      "3 3 3 \n",
      "2 2 \n",
      "1 \n"
     ]
    }
   ],
   "source": [
    "for i in range (5,0,-1):\n",
    "    for j in range (0,i):\n",
    "        print(i,end=\" \")\n",
    "    print()"
   ]
  },
  {
   "cell_type": "code",
   "execution_count": 14,
   "id": "bd7adb15",
   "metadata": {},
   "outputs": [
    {
     "name": "stdout",
     "output_type": "stream",
     "text": [
      "a a a "
     ]
    }
   ],
   "source": [
    "#predict the o/p:\n",
    "x = \"123\"\n",
    "for i in x:\n",
    "    print(\"a\",end=\" \")\n"
   ]
  },
  {
   "cell_type": "code",
   "execution_count": 16,
   "id": "f53eeca9",
   "metadata": {},
   "outputs": [
    {
     "name": "stdout",
     "output_type": "stream",
     "text": [
      "3\n",
      "3\n",
      "4\n",
      "4\n"
     ]
    }
   ],
   "source": [
    "i=2\n",
    "for x in range(i):\n",
    "    i+=1\n",
    "    print(i)\n",
    "    print(i)\n"
   ]
  },
  {
   "cell_type": "code",
   "execution_count": 17,
   "id": "4c019928",
   "metadata": {},
   "outputs": [
    {
     "name": "stdout",
     "output_type": "stream",
     "text": [
      "1\n",
      "2\n",
      "2\n"
     ]
    }
   ],
   "source": [
    "i=2\n",
    "for x in range(i):\n",
    "    x+=1\n",
    "    print(x)\n",
    "print(x)"
   ]
  },
  {
   "cell_type": "code",
   "execution_count": 18,
   "id": "f6926cb7",
   "metadata": {},
   "outputs": [
    {
     "name": "stdout",
     "output_type": "stream",
     "text": [
      "1\n",
      "2\n",
      "x\n"
     ]
    }
   ],
   "source": [
    "i=2\n",
    "for x in range(i):\n",
    "    x+=1\n",
    "    print(x)\n",
    "print(\"x\")\t\n"
   ]
  },
  {
   "cell_type": "code",
   "execution_count": 21,
   "id": "0c968d46",
   "metadata": {},
   "outputs": [
    {
     "name": "stdout",
     "output_type": "stream",
     "text": [
      "Bye\n"
     ]
    }
   ],
   "source": [
    "#Q. Predict the Output\n",
    "x=3\n",
    "if x>2 or x<5 and x==6:\n",
    "    print(\"Bye\")\n",
    "else:\n",
    "    print(\"Thank you\")"
   ]
  },
  {
   "cell_type": "code",
   "execution_count": 22,
   "id": "259126a5",
   "metadata": {},
   "outputs": [
    {
     "name": "stdout",
     "output_type": "stream",
     "text": [
      "Bye\n"
     ]
    }
   ],
   "source": [
    "x,y=2,4\n",
    "if(x+y==10):\n",
    "    print(\"Thankyou\")\n",
    "else:\n",
    "    print(\"Bye\")"
   ]
  },
  {
   "cell_type": "code",
   "execution_count": 25,
   "id": "22a5bcd0",
   "metadata": {},
   "outputs": [
    {
     "name": "stdout",
     "output_type": "stream",
     "text": [
      "Bye\n"
     ]
    }
   ],
   "source": [
    "n = 11\n",
    "for i in range(2, n//4):\n",
    "    if n%i == 0:\n",
    "        print(\"Python output based question\")\n",
    "else:\n",
    "    print(\"Bye\")\n"
   ]
  },
  {
   "cell_type": "code",
   "execution_count": 26,
   "id": "27917d5b",
   "metadata": {},
   "outputs": [
    {
     "name": "stdout",
     "output_type": "stream",
     "text": [
      "2\n",
      "2\n",
      "2\n"
     ]
    }
   ],
   "source": [
    "x=2\n",
    "for i in range(x-1,x**2):\n",
    "    print(x)\n"
   ]
  }
 ],
 "metadata": {
  "kernelspec": {
   "display_name": "Python 3 (ipykernel)",
   "language": "python",
   "name": "python3"
  },
  "language_info": {
   "codemirror_mode": {
    "name": "ipython",
    "version": 3
   },
   "file_extension": ".py",
   "mimetype": "text/x-python",
   "name": "python",
   "nbconvert_exporter": "python",
   "pygments_lexer": "ipython3",
   "version": "3.9.12"
  }
 },
 "nbformat": 4,
 "nbformat_minor": 5
}
