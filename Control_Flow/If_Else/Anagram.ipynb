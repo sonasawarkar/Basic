{
 "cells": [
  {
   "cell_type": "markdown",
   "id": "c3a05cc9",
   "metadata": {},
   "source": [
    "## Check if two strings are anagram or not. (care = race)"
   ]
  },
  {
   "cell_type": "code",
   "execution_count": 2,
   "id": "09cbcd9f",
   "metadata": {},
   "outputs": [
    {
     "name": "stdout",
     "output_type": "stream",
     "text": [
      "Enter the string1 care\n",
      "Enter the string2 race\n",
      "The strings are anagram\n"
     ]
    }
   ],
   "source": [
    "s1=str(input(\"Enter the string1 \"))\n",
    "s2=str(input(\"Enter the string2 \"))\n",
    "if (sorted(s1)== sorted(s2)):\n",
    "    print(\"The strings are anagram\")\n",
    "else:\n",
    "    print(\"The strings are not anagram\")"
   ]
  },
  {
   "cell_type": "code",
   "execution_count": 3,
   "id": "bcdab39f",
   "metadata": {},
   "outputs": [
    {
     "name": "stdout",
     "output_type": "stream",
     "text": [
      "Enter the name:care\n",
      "Enter the second name:race\n",
      "['a', 'c', 'e', 'r']\n",
      "['a', 'c', 'e', 'r']\n",
      "The above name is an anagram.\n"
     ]
    }
   ],
   "source": [
    "#Check if two strings are anagram or not:\n",
    "a = input(\"Enter the name:\")\n",
    "b = input(\"Enter the second name:\")\n",
    "m = a.casefold()\n",
    "n = b.casefold()\n",
    "d = sorted(m)\n",
    "e = sorted(n)\n",
    "print(d)\n",
    "print(e)\n",
    "if d == e:\n",
    "    print(\"The above name is an anagram.\")\n",
    "else:\n",
    "    print(\"The above name is not an anagram.\")"
   ]
  }
 ],
 "metadata": {
  "kernelspec": {
   "display_name": "Python 3 (ipykernel)",
   "language": "python",
   "name": "python3"
  },
  "language_info": {
   "codemirror_mode": {
    "name": "ipython",
    "version": 3
   },
   "file_extension": ".py",
   "mimetype": "text/x-python",
   "name": "python",
   "nbconvert_exporter": "python",
   "pygments_lexer": "ipython3",
   "version": "3.9.12"
  }
 },
 "nbformat": 4,
 "nbformat_minor": 5
}
