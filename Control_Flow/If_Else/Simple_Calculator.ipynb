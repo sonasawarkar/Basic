{
 "cells": [
  {
   "cell_type": "markdown",
   "id": "5fb8bda0",
   "metadata": {},
   "source": [
    "## Make a simple calculator using input"
   ]
  },
  {
   "cell_type": "code",
   "execution_count": 1,
   "id": "1e1533e1",
   "metadata": {},
   "outputs": [
    {
     "name": "stdout",
     "output_type": "stream",
     "text": [
      "Enter the first number:67\n",
      "Enter the second number:3\n",
      "Enter the operator**\n",
      "The Exponentiation of the value is: 300763\n"
     ]
    }
   ],
   "source": [
    "# Ask the user to enter two numbers:\n",
    "a=int(input(\"Enter the first number:\"))\n",
    "b=int(input(\"Enter the second number:\"))\n",
    "\n",
    "# Ask the user to enter the mathematical operator:\n",
    "op=(input(\"Enter the operator\"))\n",
    "\n",
    "# State the condition to print the resultant of two numbers based on the operator entered by the user \n",
    "if op==\"+\":\n",
    "    print(\"The Addition of the value is:\",a+b)\n",
    "elif op==\"-\":\n",
    "    print(\"The Substraction of the value is:\",a-b)\n",
    "elif op==\"*\":\n",
    "    print(\"The Multiplication of the value is:\",a*b)\n",
    "elif op==\"/\":\n",
    "    print(\"The Division of the value is:\",a/b)\n",
    "elif op==\"%\":\n",
    "    print(\"The Floor Division of the value is:\",a%b)\n",
    "elif op==\"//\":\n",
    "    print(\"The Modulus of the value is:\",a//b)\n",
    "elif op==\"**\":\n",
    "    print(\"The Exponentiation of the value is:\",a**b)\n",
    "else:\n",
    "    print(\"Syntax is invalid\")"
   ]
  },
  {
   "cell_type": "code",
   "execution_count": null,
   "id": "67f78953",
   "metadata": {},
   "outputs": [],
   "source": []
  }
 ],
 "metadata": {
  "kernelspec": {
   "display_name": "Python 3 (ipykernel)",
   "language": "python",
   "name": "python3"
  },
  "language_info": {
   "codemirror_mode": {
    "name": "ipython",
    "version": 3
   },
   "file_extension": ".py",
   "mimetype": "text/x-python",
   "name": "python",
   "nbconvert_exporter": "python",
   "pygments_lexer": "ipython3",
   "version": "3.9.12"
  }
 },
 "nbformat": 4,
 "nbformat_minor": 5
}
