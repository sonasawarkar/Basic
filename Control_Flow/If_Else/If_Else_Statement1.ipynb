{
 "cells": [
  {
   "cell_type": "markdown",
   "id": "f303137e",
   "metadata": {},
   "source": [
    "### 1. Check whether the number is divisible by 7"
   ]
  },
  {
   "cell_type": "code",
   "execution_count": 4,
   "id": "138a7c40",
   "metadata": {},
   "outputs": [
    {
     "name": "stdout",
     "output_type": "stream",
     "text": [
      "Enter the number:498\n",
      "498 number is not divisible by 7\n"
     ]
    }
   ],
   "source": [
    "n=int(input(\"Enter the number:\"))\n",
    "if n%7==0:\n",
    "    print(n,\"number is divisible by 7\")\n",
    "else:\n",
    "    print(n,\"number is not divisible by 7\")"
   ]
  },
  {
   "cell_type": "markdown",
   "id": "76123b5c",
   "metadata": {},
   "source": [
    "### 2. Check whether the given number is even or odd\n"
   ]
  },
  {
   "cell_type": "code",
   "execution_count": 18,
   "id": "175603cb",
   "metadata": {},
   "outputs": [
    {
     "name": "stdout",
     "output_type": "stream",
     "text": [
      "Enter the number:89\n",
      "89 number is odd\n"
     ]
    }
   ],
   "source": [
    "n=int(input(\"Enter the number:\"))\n",
    "if n%2==0:\n",
    "    print(n,\"number is even\")\n",
    "else:\n",
    "    print(n,\"number is odd\")"
   ]
  },
  {
   "cell_type": "markdown",
   "id": "17c587d3",
   "metadata": {},
   "source": [
    "### 3. Check whether the given number is positive, negative or equal to zero(input)"
   ]
  },
  {
   "cell_type": "code",
   "execution_count": 21,
   "id": "9b72fabf",
   "metadata": {},
   "outputs": [
    {
     "name": "stdout",
     "output_type": "stream",
     "text": [
      "Enter the number:-3\n",
      "-3 is negative number\n"
     ]
    }
   ],
   "source": [
    "n=int(input(\"Enter the number:\"))\n",
    "if n<0:\n",
    "    print(n,\"is negative number\")\n",
    "elif n==0:\n",
    "    print(n,\"is equal to zero\")\n",
    "else:\n",
    "    print(n,\"is positive number\")"
   ]
  },
  {
   "cell_type": "markdown",
   "id": "4cb6056c",
   "metadata": {},
   "source": [
    "### 4. check whether 'a' is in 'Python' string or not"
   ]
  },
  {
   "cell_type": "code",
   "execution_count": 28,
   "id": "6f1f4d88",
   "metadata": {},
   "outputs": [
    {
     "name": "stdout",
     "output_type": "stream",
     "text": [
      "a is not present in python\n"
     ]
    }
   ],
   "source": [
    "a=(\"python\")\n",
    "if ('a' in \"python\"):\n",
    "    print(\"a is present in python\")\n",
    "else:\n",
    "    print(\"a is not present in python\")"
   ]
  },
  {
   "cell_type": "markdown",
   "id": "f86f957a",
   "metadata": {},
   "source": [
    "### 5. Find the largest number among three number with user input"
   ]
  },
  {
   "cell_type": "code",
   "execution_count": 29,
   "id": "7c2ad178",
   "metadata": {},
   "outputs": [
    {
     "name": "stdout",
     "output_type": "stream",
     "text": [
      "Enter the 1st number:2\n",
      "Enter the 2nd number1\n",
      "Enter the 3rd number67\n",
      "c is largest\n"
     ]
    }
   ],
   "source": [
    "a=int(input(\"Enter the 1st number:\"))\n",
    "b=int(input(\"Enter the 2nd number\"))\n",
    "c=int(input(\"Enter the 3rd number\"))\n",
    "if a>b and a>c:\n",
    "    print(\"a is largest:\")\n",
    "elif  b>a and b>c:\n",
    "    print(\"a is largest\")\n",
    "else:\n",
    "    print(\"c is largest\")"
   ]
  }
 ],
 "metadata": {
  "kernelspec": {
   "display_name": "Python 3 (ipykernel)",
   "language": "python",
   "name": "python3"
  },
  "language_info": {
   "codemirror_mode": {
    "name": "ipython",
    "version": 3
   },
   "file_extension": ".py",
   "mimetype": "text/x-python",
   "name": "python",
   "nbconvert_exporter": "python",
   "pygments_lexer": "ipython3",
   "version": "3.9.12"
  }
 },
 "nbformat": 4,
 "nbformat_minor": 5
}
