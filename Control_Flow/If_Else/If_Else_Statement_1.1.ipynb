{
 "cells": [
  {
   "cell_type": "markdown",
   "id": "3e3b7750",
   "metadata": {},
   "source": [
    "## 6.Check whether year is leap year or not\n"
   ]
  },
  {
   "cell_type": "code",
   "execution_count": 1,
   "id": "b7f3853c",
   "metadata": {},
   "outputs": [
    {
     "name": "stdout",
     "output_type": "stream",
     "text": [
      "Enter the leap year:2400\n",
      "2400 year is leap year\n"
     ]
    }
   ],
   "source": [
    "y=int(input(\"Enter the leap year:\"))\n",
    "if y%4==0 and y%100!=0:\n",
    "    print(y,\"year is leap year\")\n",
    "elif y%100==0 and y%400==0:\n",
    "    print(y,\"year is leap year\")\n",
    "else:\n",
    "    print(y,\"year is not leap year\")"
   ]
  },
  {
   "cell_type": "markdown",
   "id": "ed3b0e67",
   "metadata": {},
   "source": [
    "## 8. Check whether the letter is vowel or not"
   ]
  },
  {
   "cell_type": "code",
   "execution_count": 14,
   "id": "81eed6e8",
   "metadata": {},
   "outputs": [
    {
     "name": "stdout",
     "output_type": "stream",
     "text": [
      "Enter the vow: y\n",
      "y the letter is not vowel\n"
     ]
    }
   ],
   "source": [
    "vowel=['a','e','i','o','u','A','E','I','O','U']\n",
    "vow=input(\"Enter the vow: \")\n",
    "if vow in vowel:\n",
    "    print(vow,\"the letter is vowe\")\n",
    "else:\n",
    "    print(vow,\"the letter is not vowel\")"
   ]
  },
  {
   "cell_type": "code",
   "execution_count": 23,
   "id": "32106720",
   "metadata": {},
   "outputs": [
    {
     "name": "stdout",
     "output_type": "stream",
     "text": [
      "Enter the vow: u\n",
      "u the letter is vowel\n"
     ]
    }
   ],
   "source": [
    "vowel=['a','e','i','o','u','A','E','I','O','U']\n",
    "vow=input(\"Enter the vow: \")\n",
    "if vow in vowel:\n",
    "    print(vow,\"the letter is vowel\")\n",
    "else:\n",
    "    print(vow,\"the letter is not vowel\")"
   ]
  },
  {
   "cell_type": "markdown",
   "id": "fb481932",
   "metadata": {},
   "source": [
    "### 9. Write a program to accept the number from 1 to 7 and display the name of the day like 1 for sunday,2 for monday and so on."
   ]
  },
  {
   "cell_type": "code",
   "execution_count": 8,
   "id": "c11058f3",
   "metadata": {},
   "outputs": [
    {
     "name": "stdout",
     "output_type": "stream",
     "text": [
      "Enter the number in 1 to 7: 6\n",
      "6 for Friday\n"
     ]
    }
   ],
   "source": [
    "n=int(input(\"Enter the number in 1 to 7: \"))\n",
    "if n==1:\n",
    "      print(n,\"for Sunday\")\n",
    "elif n==2:\n",
    "      print(n,\"for Monday\")\n",
    "elif n==3:\n",
    "      print(n,\"for Tuesday\")\n",
    "elif n==4:\n",
    "      print(n,\"for Wensday\")\n",
    "elif n==5:\n",
    "      print(n,\"for Thusday\")\n",
    "elif n==6:\n",
    "      print(n,\"for Friday\")\n",
    "elif n==7:\n",
    "      print(n,\"for Saturday\")\n",
    "else:\n",
    "      print(\"Invalid number\")"
   ]
  },
  {
   "cell_type": "markdown",
   "id": "8e3c6538",
   "metadata": {},
   "source": [
    "### 13. Check whether the figure is square or not by giving length and breadth"
   ]
  },
  {
   "cell_type": "code",
   "execution_count": 2,
   "id": "ab929cf1",
   "metadata": {},
   "outputs": [
    {
     "name": "stdout",
     "output_type": "stream",
     "text": [
      "Enter the length:56\n",
      "Enter the breadth:56\n",
      "It is square\n"
     ]
    }
   ],
   "source": [
    "l=int(input(\"Enter the length:\"))\n",
    "b=int(input(\"Enter the breadth:\"))\n",
    "if l==b:\n",
    "    print(\"It is square\")\n",
    "else:\n",
    "    print(\"It is not square\")"
   ]
  }
 ],
 "metadata": {
  "kernelspec": {
   "display_name": "Python 3 (ipykernel)",
   "language": "python",
   "name": "python3"
  },
  "language_info": {
   "codemirror_mode": {
    "name": "ipython",
    "version": 3
   },
   "file_extension": ".py",
   "mimetype": "text/x-python",
   "name": "python",
   "nbconvert_exporter": "python",
   "pygments_lexer": "ipython3",
   "version": "3.9.12"
  }
 },
 "nbformat": 4,
 "nbformat_minor": 5
}
