{
 "cells": [
  {
   "cell_type": "markdown",
   "id": "0bf8b573",
   "metadata": {},
   "source": [
    "## Q.7. Accept the following from the user and calculate the percentage of class attended:\n",
    "a.Total number of working days b.Total number of days for present After calculating percentage show that, If the percentage is less than 75, than student will not be able to sit in exam."
   ]
  },
  {
   "cell_type": "code",
   "execution_count": 1,
   "id": "09503d9a",
   "metadata": {},
   "outputs": [
    {
     "name": "stdout",
     "output_type": "stream",
     "text": [
      "Total number of working days:200\n",
      "Total number of days for present:150\n",
      "You are attendance is: 75.0\n",
      "You are eligible for writting exam\n"
     ]
    }
   ],
   "source": [
    "WD=int(input(\"Total number of working days:\"))\n",
    "PD=int(input(\"Total number of days for present:\"))\n",
    "per=(PD)/WD*100\n",
    "print(\"You are attendance is:\",per)\n",
    "if per <75:\n",
    "    print(\"You are not eligible for exam\")\n",
    "else:\n",
    "    print(\"You are eligible for writting exam\")"
   ]
  },
  {
   "cell_type": "markdown",
   "id": "f2fb74fd",
   "metadata": {},
   "source": [
    "## 10. Accept any city from the user and display monument of that city.\n",
    "              City                                 Monument\n",
    "              Delhi                               Red Fort\n",
    "              Agra                                Taj Mahal\n",
    "              Jaipur                              Jal Mahal"
   ]
  },
  {
   "cell_type": "code",
   "execution_count": 3,
   "id": "cb5bba7b",
   "metadata": {},
   "outputs": [
    {
     "name": "stdout",
     "output_type": "stream",
     "text": [
      "Enter the city is 'Delhi','Agra','Jaipur':Agra\n",
      "Taj Mahal in Delhi\n"
     ]
    }
   ],
   "source": [
    "city=input(\"Enter the city is 'Delhi','Agra','Jaipur':\")\n",
    "if city=='Delhi':\n",
    "    print(\"Red fort in Delhi\")\n",
    "elif city=='Agra':\n",
    "    print(\"Taj Mahal in Delhi\")\n",
    "elif city=='Jaipur':\n",
    "    print(\"Jal Mahal in Delhi\")\n",
    "else:\n",
    "    print(\"is not found\")"
   ]
  },
  {
   "cell_type": "markdown",
   "id": "d1cd58dc",
   "metadata": {},
   "source": [
    "## 11. Check whether the person is eligible for voting or not."
   ]
  },
  {
   "cell_type": "code",
   "execution_count": 6,
   "id": "44119280",
   "metadata": {},
   "outputs": [
    {
     "name": "stdout",
     "output_type": "stream",
     "text": [
      "Enter age of a user: 23\n",
      "User is eligible for voting:  23\n"
     ]
    }
   ],
   "source": [
    "#program to check vote eligibility: \n",
    "\n",
    "Age=int(input(\"Enter age of a user: \"))\n",
    "\n",
    "if Age >= 18:\n",
    "    print(\"User is eligible for voting: \",Age)\n",
    "else:\n",
    "    print(\"User is not eligible for voting: \",Age)"
   ]
  }
 ],
 "metadata": {
  "kernelspec": {
   "display_name": "Python 3 (ipykernel)",
   "language": "python",
   "name": "python3"
  },
  "language_info": {
   "codemirror_mode": {
    "name": "ipython",
    "version": 3
   },
   "file_extension": ".py",
   "mimetype": "text/x-python",
   "name": "python",
   "nbconvert_exporter": "python",
   "pygments_lexer": "ipython3",
   "version": "3.9.12"
  }
 },
 "nbformat": 4,
 "nbformat_minor": 5
}
