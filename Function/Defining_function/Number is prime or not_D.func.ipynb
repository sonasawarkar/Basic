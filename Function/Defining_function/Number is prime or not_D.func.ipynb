{
 "cells": [
  {
   "cell_type": "markdown",
   "id": "7175ac16",
   "metadata": {},
   "source": [
    "### write a program to check number is prime or not"
   ]
  },
  {
   "cell_type": "code",
   "execution_count": 3,
   "id": "d3fbc8bc",
   "metadata": {},
   "outputs": [
    {
     "name": "stdout",
     "output_type": "stream",
     "text": [
      "Enter a number :9\n",
      "9  is not a prime number.\n"
     ]
    }
   ],
   "source": [
    "num=int(input(\"Enter a number :\"))\n",
    "if num>1:\n",
    "    for i in range (2,num):\n",
    "        if num%i==0:\n",
    "            print(num,\" is not a prime number.\")\n",
    "            break\n",
    "    else:\n",
    "        print(num,\" is a prime number.\")\n",
    "else:\n",
    "    print(num,\" is not a prime number.\")"
   ]
  }
 ],
 "metadata": {
  "kernelspec": {
   "display_name": "Python 3 (ipykernel)",
   "language": "python",
   "name": "python3"
  },
  "language_info": {
   "codemirror_mode": {
    "name": "ipython",
    "version": 3
   },
   "file_extension": ".py",
   "mimetype": "text/x-python",
   "name": "python",
   "nbconvert_exporter": "python",
   "pygments_lexer": "ipython3",
   "version": "3.9.12"
  }
 },
 "nbformat": 4,
 "nbformat_minor": 5
}
