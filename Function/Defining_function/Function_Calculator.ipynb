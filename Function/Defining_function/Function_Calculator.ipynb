{
 "cells": [
  {
   "cell_type": "markdown",
   "id": "f01e0cc7",
   "metadata": {},
   "source": [
    "## Calculator By Defining Funcations:"
   ]
  },
  {
   "cell_type": "code",
   "execution_count": 4,
   "id": "d18dff70",
   "metadata": {},
   "outputs": [
    {
     "name": "stdout",
     "output_type": "stream",
     "text": [
      "Select an opertor:\n",
      "1-Additon\n",
      "2-Substraction\n",
      "3-Multiplicatin\n",
      "4-Division\n",
      "5-Floor Division\n",
      "6-Modulus\n",
      "7-Exponentiation\n",
      "Enter a numbers:54\n",
      "Enter a numers:7678\n",
      "Enter the numbers as per as the required operation:3\n",
      "The multiplication 414612.0\n",
      "\n",
      "Want to perform another operation?(Y/N)Y\n",
      "Enter a numbers:976\n",
      "Enter a numers:1234\n",
      "Enter the numbers as per as the required operation:2\n",
      "The substraction is -258.0\n",
      "\n",
      "Want to perform another operation?(Y/N)N\n",
      "off\n"
     ]
    }
   ],
   "source": [
    "def add(a,b):\n",
    "    return(a+b)\n",
    "def sub(a,b):\n",
    "    return(a-b)\n",
    "def mult(a,b):\n",
    "    return(a*b)\n",
    "def div(a,b):\n",
    "    return(a/b)\n",
    "def flrdiv(a,b):\n",
    "    return(a//b)\n",
    "def mod(a,b):\n",
    "    return(a%b)\n",
    "def expon(a,b):\n",
    "    return(a**b)\n",
    "print(\"Select an opertor:\")\n",
    "print(\"1-Additon\")\n",
    "print(\"2-Substraction\")\n",
    "print(\"3-Multiplicatin\")\n",
    "print(\"4-Division\")\n",
    "print(\"5-Floor Division\")\n",
    "print(\"6-Modulus\")\n",
    "print(\"7-Exponentiation\")\n",
    "\n",
    "while True:\n",
    "    a=float(input(\"Enter a numbers:\"))\n",
    "    b=float(input(\"Enter a numers:\"))\n",
    "    choose=int(input(\"Enter the numbers as per as the required operation:\"))\n",
    "    if choose in(1,2,3,4,5,6,7):\n",
    "        if choose==1:\n",
    "            print(\"The Addition is\",add(a,b))\n",
    "        elif choose==2:\n",
    "            print(\"The substraction is\",sub(a,b))\n",
    "        elif choose==3:\n",
    "            print(\"The multiplication\",mult(a,b))   \n",
    "        elif choose==4:\n",
    "            print(\"The division is\",div(a,b))\n",
    "        elif choose==5:\n",
    "            print(\"The floor division is\",flrdiv(a,b))\n",
    "        elif choose==6:\n",
    "            print(\"The modulus is\",mod(a,b))\n",
    "        elif choose==7:\n",
    "            print(\"The expoentiation is\",expon(a,b))\n",
    "        else:\n",
    "            print(\"Invalid input\")\n",
    "        next=input(\"\\nWant to perform another operation?(Y/N)\")\n",
    "        if next=='N':\n",
    "            print('off')\n",
    "            break\n",
    "else:\n",
    "    print(\"Invalid number\")\n",
    "\n",
    "            "
   ]
  },
  {
   "cell_type": "code",
   "execution_count": null,
   "id": "43ba5fa1",
   "metadata": {},
   "outputs": [],
   "source": []
  }
 ],
 "metadata": {
  "kernelspec": {
   "display_name": "Python 3 (ipykernel)",
   "language": "python",
   "name": "python3"
  },
  "language_info": {
   "codemirror_mode": {
    "name": "ipython",
    "version": 3
   },
   "file_extension": ".py",
   "mimetype": "text/x-python",
   "name": "python",
   "nbconvert_exporter": "python",
   "pygments_lexer": "ipython3",
   "version": "3.9.12"
  }
 },
 "nbformat": 4,
 "nbformat_minor": 5
}
