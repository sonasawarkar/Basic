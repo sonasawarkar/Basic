{
 "cells": [
  {
   "cell_type": "markdown",
   "id": "36808bd9",
   "metadata": {},
   "source": [
    "### Write a python function that takes a list and returns a new list with unique elements of the first list"
   ]
  },
  {
   "cell_type": "code",
   "execution_count": 16,
   "id": "fcc4b983",
   "metadata": {},
   "outputs": [
    {
     "name": "stdout",
     "output_type": "stream",
     "text": [
      "[22, 43, 67, 2, 89, 77, 6, 5, 10]\n"
     ]
    }
   ],
   "source": [
    "def ulist(y):\n",
    "    a=[]\n",
    "    for X in y:\n",
    "        if X not in a:\n",
    "            a.append(X)\n",
    "    return a\n",
    "print(ulist([22,43,67,2,89,77,6,5,10]))\n",
    "    "
   ]
  },
  {
   "cell_type": "code",
   "execution_count": 17,
   "id": "41cf1018",
   "metadata": {},
   "outputs": [
    {
     "name": "stdout",
     "output_type": "stream",
     "text": [
      "[1, 2, 4, 6, 8, 10, 14, 17]\n"
     ]
    }
   ],
   "source": [
    "def ulist(l):\n",
    "    a=[]\n",
    "    for x in l:\n",
    "        if x not in a:\n",
    "            a.append(x)\n",
    "    return a\n",
    "print(ulist([1,2,4,6,8,10,14,17]))"
   ]
  }
 ],
 "metadata": {
  "kernelspec": {
   "display_name": "Python 3 (ipykernel)",
   "language": "python",
   "name": "python3"
  },
  "language_info": {
   "codemirror_mode": {
    "name": "ipython",
    "version": 3
   },
   "file_extension": ".py",
   "mimetype": "text/x-python",
   "name": "python",
   "nbconvert_exporter": "python",
   "pygments_lexer": "ipython3",
   "version": "3.9.12"
  }
 },
 "nbformat": 4,
 "nbformat_minor": 5
}
