{
 "cells": [
  {
   "cell_type": "markdown",
   "id": "082facc4",
   "metadata": {},
   "source": [
    "### 2. Calculate sum of first n numbers."
   ]
  },
  {
   "cell_type": "code",
   "execution_count": 2,
   "id": "1dfa2763",
   "metadata": {},
   "outputs": [
    {
     "name": "stdout",
     "output_type": "stream",
     "text": [
      "55\n"
     ]
    }
   ],
   "source": [
    "#Write a program to create a recursive function to calculate the sum of numbers from 0 to 10\n",
    "def sums(n):\n",
    "    if n ==1 or n==0:\n",
    "        return(n)\n",
    "    else: return(n+sums(n-1))\n",
    "print(sums(10))"
   ]
  },
  {
   "cell_type": "code",
   "execution_count": 6,
   "id": "8df5d802",
   "metadata": {},
   "outputs": [
    {
     "data": {
      "text/plain": [
       "124750"
      ]
     },
     "execution_count": 6,
     "metadata": {},
     "output_type": "execute_result"
    }
   ],
   "source": [
    "sums(499)"
   ]
  },
  {
   "cell_type": "code",
   "execution_count": 8,
   "id": "e344f754",
   "metadata": {},
   "outputs": [
    {
     "data": {
      "text/plain": [
       "276"
      ]
     },
     "execution_count": 8,
     "metadata": {},
     "output_type": "execute_result"
    }
   ],
   "source": [
    "sums(23)"
   ]
  }
 ],
 "metadata": {
  "kernelspec": {
   "display_name": "Python 3 (ipykernel)",
   "language": "python",
   "name": "python3"
  },
  "language_info": {
   "codemirror_mode": {
    "name": "ipython",
    "version": 3
   },
   "file_extension": ".py",
   "mimetype": "text/x-python",
   "name": "python",
   "nbconvert_exporter": "python",
   "pygments_lexer": "ipython3",
   "version": "3.9.12"
  }
 },
 "nbformat": 4,
 "nbformat_minor": 5
}
