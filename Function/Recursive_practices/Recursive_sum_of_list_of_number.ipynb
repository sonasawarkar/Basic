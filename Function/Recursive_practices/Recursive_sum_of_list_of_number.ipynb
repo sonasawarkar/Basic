{
 "cells": [
  {
   "cell_type": "markdown",
   "id": "9a787dd3",
   "metadata": {},
   "source": [
    "## 1. Write a python program to calculate the sum of a list of number"
   ]
  },
  {
   "cell_type": "code",
   "execution_count": 18,
   "id": "7f22e9e0",
   "metadata": {},
   "outputs": [
    {
     "name": "stdout",
     "output_type": "stream",
     "text": [
      "25\n"
     ]
    }
   ],
   "source": [
    "def listnum(numlist):\n",
    "    if len(numlist)==1:\n",
    "        return numlist[0]\n",
    "    else:\n",
    "        return numlist[0]+listnum(numlist[1:])\n",
    "print(listnum([2,3,5,9,6]))"
   ]
  }
 ],
 "metadata": {
  "kernelspec": {
   "display_name": "Python 3 (ipykernel)",
   "language": "python",
   "name": "python3"
  },
  "language_info": {
   "codemirror_mode": {
    "name": "ipython",
    "version": 3
   },
   "file_extension": ".py",
   "mimetype": "text/x-python",
   "name": "python",
   "nbconvert_exporter": "python",
   "pygments_lexer": "ipython3",
   "version": "3.9.12"
  }
 },
 "nbformat": 4,
 "nbformat_minor": 5
}
