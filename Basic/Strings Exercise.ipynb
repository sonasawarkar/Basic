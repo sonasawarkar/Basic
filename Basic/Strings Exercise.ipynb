{
 "cells": [
  {
   "cell_type": "code",
   "execution_count": 8,
   "id": "210473e1",
   "metadata": {},
   "outputs": [
    {
     "name": "stdout",
     "output_type": "stream",
     "text": [
      "Enter 1st string: Its good, \n",
      "Enter 2nd string: Its bad\n",
      "Its good, Its bad"
     ]
    }
   ],
   "source": [
    "x=input(\"Enter 1st string: \")\n",
    "y=input( \"Enter 2nd string: \")\n",
    "print(x,end=y)"
   ]
  },
  {
   "cell_type": "code",
   "execution_count": 9,
   "id": "7174aaf9",
   "metadata": {},
   "outputs": [
    {
     "name": "stdout",
     "output_type": "stream",
     "text": [
      "Enter Your Name: Sonal \n",
      "Enter Your Age: 24\n",
      "Enter Your Roll no: 2034\n",
      "Enter Your Std: final\n",
      "Enter Your Hobby: Reeding\n",
      "Enter Your Interest: learn Programming Language.\n",
      "my name and age is Sonal ,24 and my roll no and std is 2034,final also my hobbies and interests are Reeding,learn Programming Language."
     ]
    }
   ],
   "source": [
    "p=input(\"Enter Your Name: \")\n",
    "q=input(\"Enter Your Age: \")\n",
    "r=input(\"Enter Your Roll no: \")\n",
    "s=input(\"Enter Your Std: \")\n",
    "t=input(\"Enter Your Hobby: \")\n",
    "u=input(\"Enter Your Interest: \")\n",
    "print(\"My name and age is \",end=p+\",\"+q)\n",
    "print(\" and my roll no and std is \",end=r+\",\"+s)\n",
    "print(\" also my hobbies and interests are \",end=t+\",\"+u)"
   ]
  },
  {
   "cell_type": "code",
   "execution_count": 10,
   "id": "d8f13706",
   "metadata": {},
   "outputs": [
    {
     "name": "stdout",
     "output_type": "stream",
     "text": [
      "Enter anything: abc\n",
      "Enter again to compare: xyz\n",
      "If they are equal you'll get True or else False:  False\n"
     ]
    }
   ],
   "source": [
    "x=input(\"Enter anything: \")\n",
    "y=input(\"Enter again to compare: \")\n",
    "print(\"If they are equal you'll get True or else False: \",x==y)"
   ]
  },
  {
   "cell_type": "code",
   "execution_count": 11,
   "id": "6fbb9ae0",
   "metadata": {},
   "outputs": [
    {
     "name": "stdout",
     "output_type": "stream",
     "text": [
      "Enter 1st statement: okay\n",
      "Enter 2nd ststement: bad\n",
      "Enter 3rd statement: okay\n",
      "If x and y are equal you'll get True or else False:  False\n",
      "If y and z are equal you'll get True or else False:  False\n",
      "If x and z are equal you'll get True or else False:  True\n"
     ]
    }
   ],
   "source": [
    "x=input(\"Enter 1st statement: \")\n",
    "y=input(\"Enter 2nd ststement: \")\n",
    "z=input(\"Enter 3rd statement: \")\n",
    "print(\"If x and y are equal you'll get True or else False: \",x==y)\n",
    "print(\"If y and z are equal you'll get True or else False: \",y==z)\n",
    "print(\"If x and z are equal you'll get True or else False: \",x==z)"
   ]
  },
  {
   "cell_type": "code",
   "execution_count": 12,
   "id": "dfef883e",
   "metadata": {},
   "outputs": [
    {
     "name": "stdout",
     "output_type": "stream",
     "text": [
      "Enter any number: 98\n",
      "Enter any number: 23\n",
      "sum of the numbers is greater than 5 - True\n",
      "sum of the numbers is less than 5 - False\n",
      "sum of the numbers is equal to 5 - False\n"
     ]
    }
   ],
   "source": [
    "x=float(input(\"Enter any number: \"))\n",
    "y=float(input(\"Enter any number: \"))\n",
    "z=x+y\n",
    "print(\"sum of the numbers is greater than 5 -\",z>5)\n",
    "print(\"sum of the numbers is less than 5 -\",z<5)\n",
    "print(\"sum of the numbers is equal to 5 -\",z==5)"
   ]
  },
  {
   "cell_type": "code",
   "execution_count": 13,
   "id": "699e8584",
   "metadata": {},
   "outputs": [
    {
     "name": "stdout",
     "output_type": "stream",
     "text": [
      "False\n",
      "True\n",
      "True\n",
      "False\n",
      "False\n"
     ]
    }
   ],
   "source": [
    "print(not(True and True))\n",
    "print(True or False)\n",
    "print(not(False and True))\n",
    "print(False and False)\n",
    "print(not(True or False))"
   ]
  },
  {
   "cell_type": "code",
   "execution_count": 14,
   "id": "559e4563",
   "metadata": {},
   "outputs": [
    {
     "name": "stdout",
     "output_type": "stream",
     "text": [
      "Enter your marks: 550\n",
      "You scored greater than passing marks- True\n",
      "You scored less than passing marks- False\n",
      "You scored ecxactly equal to passing marks- False\n"
     ]
    }
   ],
   "source": [
    "passing_mks=35\n",
    "x=int(input(\"Enter your marks: \"))\n",
    "y=x>passing_mks\n",
    "print(\"You scored greater than passing marks-\",y)\n",
    "z=x<passing_mks\n",
    "print('You scored less than passing marks-',z)\n",
    "p=x==passing_mks\n",
    "print('You scored ecxactly equal to passing marks-',p)"
   ]
  },
  {
   "cell_type": "code",
   "execution_count": 16,
   "id": "754d09c1",
   "metadata": {},
   "outputs": [
    {
     "name": "stdout",
     "output_type": "stream",
     "text": [
      "meaningless\n",
      "housefly\n",
      "galaxyF62\n",
      "AtmelAT89C51\n",
      "merrygoround\n",
      "Motherinlaw\n"
     ]
    }
   ],
   "source": [
    "x=\"meaning\"\n",
    "y=\"less\"\n",
    "print(x+y)\n",
    "a=\"house\"\n",
    "b=\"fly\"\n",
    "print(a+b)\n",
    "c=\"galaxy\"\n",
    "d=\"F62\"\n",
    "print(c+d)\n",
    "f=\"Atmel\"\n",
    "g=\"AT89C51\"\n",
    "print(f+g)\n",
    "h=\"merry\"\n",
    "i=\"go\"\n",
    "j=\"round\"\n",
    "print(h+i+j)\n",
    "k=\"Mother\"\n",
    "l=\"in\"\n",
    "m=\"law\"\n",
    "print(k+l+m)"
   ]
  },
  {
   "cell_type": "code",
   "execution_count": 17,
   "id": "e185732c",
   "metadata": {},
   "outputs": [
    {
     "name": "stdout",
     "output_type": "stream",
     "text": [
      "Enter your name: sonal\n",
      "Enter your age: 24\n",
      "Hii! sonal as per your age now, you'll turn 100 in the year 2098 .\n"
     ]
    }
   ],
   "source": [
    "p=str(input(\"Enter your name: \"))\n",
    "r=int(input(\"Enter your age: \"))\n",
    "s=2022-r\n",
    "t=s+100\n",
    "print(\"Hii!\",p,\"as per your age now, you'll turn 100 in the year\",t,\".\")"
   ]
  }
 ],
 "metadata": {
  "kernelspec": {
   "display_name": "Python 3 (ipykernel)",
   "language": "python",
   "name": "python3"
  },
  "language_info": {
   "codemirror_mode": {
    "name": "ipython",
    "version": 3
   },
   "file_extension": ".py",
   "mimetype": "text/x-python",
   "name": "python",
   "nbconvert_exporter": "python",
   "pygments_lexer": "ipython3",
   "version": "3.9.12"
  }
 },
 "nbformat": 4,
 "nbformat_minor": 5
}
