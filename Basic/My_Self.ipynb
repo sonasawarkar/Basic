{
  "nbformat": 4,
  "nbformat_minor": 0,
  "metadata": {
    "colab": {
      "name": "My_Self",
      "provenance": [],
      "collapsed_sections": []
    },
    "kernelspec": {
      "name": "python3",
      "display_name": "Python 3"
    },
    "language_info": {
      "name": "python"
    }
  },
  "cells": [
    {
      "cell_type": "code",
      "execution_count": 23,
      "metadata": {
        "colab": {
          "base_uri": "https://localhost:8080/"
        },
        "id": "GhXFwHSiExP5",
        "outputId": "b45154eb-350f-4e6d-c6e2-eda198729064"
      },
      "outputs": [
        {
          "output_type": "stream",
          "name": "stdout",
          "text": [
            "---My Self---\n",
            "😀 Hello, here is something about me.🤗\n",
            "\tMy name is Sonal Narayanrao Sawarkar👩. My age is 24 years. Basically i am from 🏠 Amravati in maharashtra, but currently stating in🏠 Airoli.\n",
            "🏢 I did my bachelor degree 🎓 in Electrical Engg. from P.R. Pote college of Engineering And Technology Amt, I have completed my 12th from G.R.Kabra clg from Chandur Bazar, \n",
            "also completed my schooling.\n",
            "My hobbies are listening music, cooking, Reading books, and Learn new things. \n",
            "\tWhen its come to my family, My family consist of 2 members including me & my husband. He is Working im IT domain for private firm.\n",
            "\n",
            "\tMy strength are, I'm self motivated, hard working and a diciplined person.\n",
            "And i thing I'm strong enough to come out any situation in my life & career. \n",
            "My short term goal 🎯 is to get job in a reputed company & \n",
            "\tMy ultimed goal is to achive a good position,Where i can build my careert &help the orginization too.\n",
            "\n",
            "It's all about me.\n",
            "\n",
            "Thank You! 🙏\n"
          ]
        }
      ],
      "source": [
        "p=(\"---My Self---\")\n",
        "q=\"\\U0001f600 Hello, here is something about me.\\U0001f917\"\n",
        "a=\"\\tMy name is Sonal Narayanrao Sawarkar\\U0001f469. My age is 24 years. Basically i am from \\U0001F3E0 Amravati in maharashtra, but currently stating in\\U0001F3E0 Airoli.\"\n",
        "b=\"\\U0001f3E2 I did my bachelor degree \\U0001F393 in Electrical Engg. from P.R. Pote college of Engineering And Technology Amt, I have completed my 12th from G.R.Kabra clg from Chandur Bazar, \\nalso completed my schooling.\\nMy hobbies are listening music, cooking, Reading books, and Learn new things. \"\n",
        "c=\"\\tWhen its come to my family, My family consist of 2 members including me & my husband. He is Working im IT domain for private firm.\"\n",
        "d=\"\\n\\tMy strength are, I'm self motivated, hard working and a diciplined person.\\nAnd i thing I'm strong enough to come out any situation in my life & career.\"\n",
        "e=\"\\nMy short term goal \\U0001F3AF is to get job in a reputed company & \\n\\tMy ultimed goal is to achive a good position,Where i can build my careert &help the orginization too.\"\n",
        "f=\"\\nIt's all about me.\"\n",
        "g=\"\\nThank You! \\U0001F64F\"\n",
        "\n",
        "print(p)\n",
        "print(q)\n",
        "print(a)\n",
        "print(b)\n",
        "print(c)\n",
        "print(d,e)\n",
        "print(f)\n",
        "print(g)"
      ]
    }
  ]
}