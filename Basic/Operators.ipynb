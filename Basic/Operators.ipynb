{
 "cells": [
  {
   "cell_type": "markdown",
   "id": "ebbd862b",
   "metadata": {},
   "source": [
    "# #Operators"
   ]
  },
  {
   "cell_type": "markdown",
   "id": "393b5b9a",
   "metadata": {},
   "source": [
    "### Arithmatic Operator :"
   ]
  },
  {
   "cell_type": "code",
   "execution_count": 1,
   "id": "1f0be1d3",
   "metadata": {},
   "outputs": [
    {
     "name": "stdout",
     "output_type": "stream",
     "text": [
      "50\n"
     ]
    }
   ],
   "source": [
    "#Addition\n",
    "x=10\n",
    "y=40\n",
    "print(x+y)"
   ]
  },
  {
   "cell_type": "code",
   "execution_count": 2,
   "id": "7d1986c7",
   "metadata": {},
   "outputs": [
    {
     "name": "stdout",
     "output_type": "stream",
     "text": [
      "30\n"
     ]
    }
   ],
   "source": [
    "#Subtraction\n",
    "x=10\n",
    "y=40\n",
    "print(y-x)"
   ]
  },
  {
   "cell_type": "code",
   "execution_count": 3,
   "id": "fce009c1",
   "metadata": {},
   "outputs": [
    {
     "name": "stdout",
     "output_type": "stream",
     "text": [
      "8\n"
     ]
    }
   ],
   "source": [
    "#Multiplication;\n",
    "x=2\n",
    "y=4\n",
    "print(x*y)"
   ]
  },
  {
   "cell_type": "code",
   "execution_count": 4,
   "id": "fd38657c",
   "metadata": {},
   "outputs": [
    {
     "name": "stdout",
     "output_type": "stream",
     "text": [
      "2.0\n"
     ]
    }
   ],
   "source": [
    "#Division\n",
    "x=2\n",
    "y=4\n",
    "print(y/x)"
   ]
  },
  {
   "cell_type": "code",
   "execution_count": 5,
   "id": "1b0fdde2",
   "metadata": {},
   "outputs": [
    {
     "name": "stdout",
     "output_type": "stream",
     "text": [
      "1.8181818181818181\n",
      "1.0\n"
     ]
    }
   ],
   "source": [
    "#Floor Division(It returns the quotient (the result of division) in which the digits after\n",
    "x=2.2\n",
    "y=4\n",
    "# normal division\n",
    "print(y/x)\n",
    "#floor division\n",
    "print(y//x)"
   ]
  },
  {
   "cell_type": "code",
   "execution_count": 6,
   "id": "315693e7",
   "metadata": {},
   "outputs": [
    {
     "name": "stdout",
     "output_type": "stream",
     "text": [
      "9\n"
     ]
    }
   ],
   "source": [
    "num1=3\n",
    "# 3*3\n",
    "print(num1**2)"
   ]
  },
  {
   "cell_type": "markdown",
   "id": "7a5f1b37",
   "metadata": {},
   "source": [
    "### Relational Operator"
   ]
  },
  {
   "cell_type": "code",
   "execution_count": 7,
   "id": "ca4645c8",
   "metadata": {},
   "outputs": [
    {
     "name": "stdout",
     "output_type": "stream",
     "text": [
      "True\n",
      "False\n"
     ]
    }
   ],
   "source": [
    "#1.Greater than (>)\n",
    "#2.Less than (<)\n",
    "x=10\n",
    "y=5\n",
    "print(x>y)\n",
    "print(x<y)"
   ]
  },
  {
   "cell_type": "code",
   "execution_count": null,
   "id": "06535aa4",
   "metadata": {},
   "outputs": [],
   "source": [
    "#3.Equal to (==)\n",
    "print(x==y)\n",
    "print(x==10)\n",
    "\n",
    "\n"
   ]
  },
  {
   "cell_type": "code",
   "execution_count": 8,
   "id": "f3484f99",
   "metadata": {},
   "outputs": [
    {
     "name": "stdout",
     "output_type": "stream",
     "text": [
      "True\n",
      "False\n"
     ]
    }
   ],
   "source": [
    "#4.Not equal to (!=)\n",
    "print(x!=y)\n",
    "print(10!=x)"
   ]
  },
  {
   "cell_type": "code",
   "execution_count": 10,
   "id": "f03514de",
   "metadata": {},
   "outputs": [
    {
     "name": "stdout",
     "output_type": "stream",
     "text": [
      "True\n",
      "True\n"
     ]
    }
   ],
   "source": [
    "#5.Greater than equal to (>=)\n",
    "print(x>=y)\n",
    "print(10>=y)"
   ]
  },
  {
   "cell_type": "code",
   "execution_count": 11,
   "id": "1d2b5326",
   "metadata": {},
   "outputs": [
    {
     "name": "stdout",
     "output_type": "stream",
     "text": [
      "False\n",
      "False\n"
     ]
    }
   ],
   "source": [
    "#6.Less than equal to (<=)\n",
    "print(x<=y)\n",
    "print(10<=y)"
   ]
  },
  {
   "cell_type": "markdown",
   "id": "18eb70a0",
   "metadata": {},
   "source": [
    "### Assignment operator"
   ]
  },
  {
   "cell_type": "code",
   "execution_count": 2,
   "id": "c2ca9637",
   "metadata": {},
   "outputs": [
    {
     "name": "stdout",
     "output_type": "stream",
     "text": [
      "6\n"
     ]
    }
   ],
   "source": [
    "#1.Assign (=)\n",
    "a=4\n",
    "b=2\n",
    "a+=b\n",
    "print(a)"
   ]
  },
  {
   "cell_type": "code",
   "execution_count": 5,
   "id": "cadcc08c",
   "metadata": {},
   "outputs": [
    {
     "name": "stdout",
     "output_type": "stream",
     "text": [
      "6\n"
     ]
    }
   ],
   "source": [
    "#2.Add and assign(+=)\n",
    "a=4\n",
    "a+=2\n",
    "print(a)"
   ]
  },
  {
   "cell_type": "code",
   "execution_count": 6,
   "id": "5ae94d6d",
   "metadata": {},
   "outputs": [
    {
     "name": "stdout",
     "output_type": "stream",
     "text": [
      "2\n"
     ]
    }
   ],
   "source": [
    "#3.Subtract and assign(-=)\n",
    "a=4\n",
    "a-=2\n",
    "print(a)"
   ]
  },
  {
   "cell_type": "code",
   "execution_count": 2,
   "id": "183ce268",
   "metadata": {},
   "outputs": [
    {
     "name": "stdout",
     "output_type": "stream",
     "text": [
      "8\n"
     ]
    }
   ],
   "source": [
    "#4.Multiply and assign(*=)\n",
    "a=4\n",
    "a*=2\n",
    "print(a)"
   ]
  },
  {
   "cell_type": "code",
   "execution_count": 4,
   "id": "bcc85b9d",
   "metadata": {},
   "outputs": [
    {
     "name": "stdout",
     "output_type": "stream",
     "text": [
      "2.0\n"
     ]
    }
   ],
   "source": [
    "#5.Divide and assign(/=)\n",
    "a=4\n",
    "a/=2\n",
    "print(a)"
   ]
  },
  {
   "cell_type": "code",
   "execution_count": 5,
   "id": "e74e4b6a",
   "metadata": {},
   "outputs": [
    {
     "name": "stdout",
     "output_type": "stream",
     "text": [
      "2\n"
     ]
    }
   ],
   "source": [
    "#6. Floor divide and assign(//=)\n",
    "a=4\n",
    "a//=2\n",
    "print(a)"
   ]
  },
  {
   "cell_type": "code",
   "execution_count": 25,
   "id": "f374a43b",
   "metadata": {},
   "outputs": [
    {
     "name": "stdout",
     "output_type": "stream",
     "text": [
      "0\n"
     ]
    }
   ],
   "source": [
    "#7.Modulus and assign(%=)\n",
    "a=4\n",
    "a%=2\n",
    "print(a)"
   ]
  },
  {
   "cell_type": "code",
   "execution_count": 22,
   "id": "008c0efa",
   "metadata": {},
   "outputs": [
    {
     "name": "stdout",
     "output_type": "stream",
     "text": [
      "16\n"
     ]
    }
   ],
   "source": [
    "#8. Exponent and assign(**=)\n",
    "a=4\n",
    "a**=2\n",
    "print(a)"
   ]
  },
  {
   "cell_type": "markdown",
   "id": "e0412a21",
   "metadata": {},
   "source": [
    "### Logical Operator\n",
    "1.\n",
    "and : The logical and operator returns True if both expressions are True.\n",
    "2.\n",
    "or : The logical or the operator returns a boolean True if one expression is true.\n",
    "3.\n",
    "not : The logical not operator returns boolean True if the expression is false."
   ]
  },
  {
   "cell_type": "code",
   "execution_count": 7,
   "id": "1c82c985",
   "metadata": {},
   "outputs": [
    {
     "name": "stdout",
     "output_type": "stream",
     "text": [
      "True\n"
     ]
    }
   ],
   "source": [
    "x=5\n",
    "print(x>3and x<10)"
   ]
  },
  {
   "cell_type": "code",
   "execution_count": 9,
   "id": "ae276c34",
   "metadata": {},
   "outputs": [
    {
     "name": "stdout",
     "output_type": "stream",
     "text": [
      "10\n",
      "10\n",
      "100\n"
     ]
    }
   ],
   "source": [
    "#In the case of arithmetic values, Logical or it always returns the first value\n",
    "print(10 or 20)\n",
    "print(10 or 5)\n",
    "print(100 or 300)"
   ]
  },
  {
   "cell_type": "code",
   "execution_count": 10,
   "id": "19cc7762",
   "metadata": {},
   "outputs": [
    {
     "name": "stdout",
     "output_type": "stream",
     "text": [
      "False\n"
     ]
    }
   ],
   "source": [
    "x=5\n",
    "print(not(x>3))"
   ]
  },
  {
   "cell_type": "code",
   "execution_count": 11,
   "id": "e4ddf9e6",
   "metadata": {},
   "outputs": [
    {
     "name": "stdout",
     "output_type": "stream",
     "text": [
      "False\n",
      "True\n"
     ]
    }
   ],
   "source": [
    "#In the case of arithmetic values, Logical not always return False for nonzero value.\n",
    "print(not 10)\n",
    "# False. Non-zero value\n",
    "print(not 0)\n",
    "# True. Non-zero value"
   ]
  },
  {
   "cell_type": "markdown",
   "id": "6c5a99b6",
   "metadata": {},
   "source": [
    "### Membership Operator\n",
    "In Python, there are two membership operator in and not in"
   ]
  },
  {
   "cell_type": "code",
   "execution_count": 12,
   "id": "ff13bd8c",
   "metadata": {},
   "outputs": [
    {
     "name": "stdout",
     "output_type": "stream",
     "text": [
      "True\n"
     ]
    }
   ],
   "source": [
    "#in operator\n",
    "x=[\"apple\",\"banana\"]\n",
    "print(\"banana\"in x)"
   ]
  },
  {
   "cell_type": "code",
   "execution_count": 13,
   "id": "5dba9669",
   "metadata": {},
   "outputs": [
    {
     "name": "stdout",
     "output_type": "stream",
     "text": [
      "True\n"
     ]
    }
   ],
   "source": [
    "#Not in operator\n",
    "x=[\"apple\",\"banana\"]\n",
    "print(\"pineapple\"not in x)"
   ]
  },
  {
   "cell_type": "markdown",
   "id": "1977e00e",
   "metadata": {},
   "source": [
    "## Identity Operator\n",
    "Use the Identity operator to check whether the value of two variables is the same or not.\n",
    "Python has 2 identity operators is and is not."
   ]
  },
  {
   "cell_type": "code",
   "execution_count": 15,
   "id": "a09ac848",
   "metadata": {},
   "outputs": [
    {
     "name": "stdout",
     "output_type": "stream",
     "text": [
      "False\n",
      "True\n"
     ]
    }
   ],
   "source": [
    "#The is operator returns Boolean True or False.\n",
    "x=10\n",
    "y=11\n",
    "z=10\n",
    "print(x is y)# it compare memory address of x and y\n",
    "print(x is z)# it compare memory address of x and z"
   ]
  },
  {
   "cell_type": "code",
   "execution_count": 16,
   "id": "6bfd31b3",
   "metadata": {},
   "outputs": [
    {
     "name": "stdout",
     "output_type": "stream",
     "text": [
      "True\n",
      "False\n"
     ]
    }
   ],
   "source": [
    "x=10\n",
    "y=11\n",
    "z=10\n",
    "print(x is not y)# it compare memory address of x and y\n",
    "print(x is not z)# it compare memory address of x and z"
   ]
  },
  {
   "cell_type": "markdown",
   "id": "d3708dec",
   "metadata": {},
   "source": [
    "## Bitwise Operator\n",
    "1.\n",
    "& Bitwise and\n",
    "2.\n",
    "| Bitwise or\n",
    "3.\n",
    "^ Bitwise xor\n",
    "\n",
    "In Python, bitwise operators are used to performing bitwise operations on integers. \n",
    "To perform bitwise, we firstneed to convert integer value to binary (0 and 1) value."
   ]
  },
  {
   "cell_type": "code",
   "execution_count": 17,
   "id": "433bf88b",
   "metadata": {},
   "outputs": [
    {
     "name": "stdout",
     "output_type": "stream",
     "text": [
      "4\n",
      "5\n",
      "4\n"
     ]
    }
   ],
   "source": [
    "#AND\n",
    "a=7\n",
    "b=4\n",
    "c=5\n",
    "print(a&b)\n",
    "print(a&c)\n",
    "print(b&c)"
   ]
  },
  {
   "cell_type": "code",
   "execution_count": 20,
   "id": "68f6f920",
   "metadata": {},
   "outputs": [
    {
     "name": "stdout",
     "output_type": "stream",
     "text": [
      "7\n",
      "7\n",
      "5\n"
     ]
    }
   ],
   "source": [
    "#or\n",
    "a=7\n",
    "b=4\n",
    "c=5\n",
    "print(a|b)\n",
    "print(a|c)\n",
    "print(b|c)"
   ]
  },
  {
   "cell_type": "code",
   "execution_count": 22,
   "id": "f91f65bb",
   "metadata": {},
   "outputs": [
    {
     "name": "stdout",
     "output_type": "stream",
     "text": [
      "2\n",
      "1\n"
     ]
    }
   ],
   "source": [
    "#xor\n",
    "a=7\n",
    "b=4\n",
    "c=5\n",
    "print(a^c)\n",
    "print(b^c)"
   ]
  }
 ],
 "metadata": {
  "kernelspec": {
   "display_name": "Python 3 (ipykernel)",
   "language": "python",
   "name": "python3"
  },
  "language_info": {
   "codemirror_mode": {
    "name": "ipython",
    "version": 3
   },
   "file_extension": ".py",
   "mimetype": "text/x-python",
   "name": "python",
   "nbconvert_exporter": "python",
   "pygments_lexer": "ipython3",
   "version": "3.9.12"
  }
 },
 "nbformat": 4,
 "nbformat_minor": 5
}
