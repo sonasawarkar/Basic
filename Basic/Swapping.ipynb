{
  "nbformat": 4,
  "nbformat_minor": 0,
  "metadata": {
    "colab": {
      "name": "Swapping",
      "provenance": [],
      "collapsed_sections": []
    },
    "kernelspec": {
      "name": "python3",
      "display_name": "Python 3"
    },
    "language_info": {
      "name": "python"
    }
  },
  "cells": [
    {
      "cell_type": "markdown",
      "source": [
        "Swapping Question"
      ],
      "metadata": {
        "id": "VKvyRIIAPI6u"
      }
    },
    {
      "cell_type": "code",
      "source": [
        "#1\n",
        "a = 10\n",
        "b = 20\n",
        "a,b = b,a\n",
        "print(a)\n",
        "print(b)"
      ],
      "metadata": {
        "colab": {
          "base_uri": "https://localhost:8080/"
        },
        "id": "ocXXtc1HPFZ3",
        "outputId": "0df9c0e9-44a4-4d98-e809-428fb6333d20"
      },
      "execution_count": 1,
      "outputs": [
        {
          "output_type": "stream",
          "name": "stdout",
          "text": [
            "20\n",
            "10\n"
          ]
        }
      ]
    },
    {
      "cell_type": "code",
      "source": [
        "#2\n",
        "x = 15\n",
        "y = 25\n",
        "y,x = x,y\n",
        "print(x)\n",
        "print(y)"
      ],
      "metadata": {
        "colab": {
          "base_uri": "https://localhost:8080/"
        },
        "id": "meV7p6TQPZ1G",
        "outputId": "9a3d883b-c515-429d-f336-4bebdd148679"
      },
      "execution_count": 2,
      "outputs": [
        {
          "output_type": "stream",
          "name": "stdout",
          "text": [
            "25\n",
            "15\n"
          ]
        }
      ]
    },
    {
      "cell_type": "code",
      "source": [
        "print(print(\"sanvee\"))\n",
        "#3\n",
        "a = 10\n",
        "b = 15\n",
        "a,b = b+5,a\n",
        "print(a)\n",
        "print(b)"
      ],
      "metadata": {
        "colab": {
          "base_uri": "https://localhost:8080/"
        },
        "id": "wcqNfWU_Pe0N",
        "outputId": "01958181-b635-4926-b208-bfe4e891bac8"
      },
      "execution_count": 6,
      "outputs": [
        {
          "output_type": "stream",
          "name": "stdout",
          "text": [
            "sanvee\n",
            "None\n",
            "20\n",
            "10\n"
          ]
        }
      ]
    },
    {
      "cell_type": "code",
      "source": [
        "#4\n",
        "a = 20\n",
        "b = 30+a\n",
        "a,b = b,a\n",
        "print(a)\n",
        "print(b)\n"
      ],
      "metadata": {
        "colab": {
          "base_uri": "https://localhost:8080/"
        },
        "id": "PnVkxh1PPfHF",
        "outputId": "fcdf3586-1226-406a-a5f4-58ab0cd010c7"
      },
      "execution_count": 5,
      "outputs": [
        {
          "output_type": "stream",
          "name": "stdout",
          "text": [
            "50\n",
            "20\n"
          ]
        }
      ]
    },
    {
      "cell_type": "code",
      "source": [
        "#5\n",
        "x = 20\n",
        "y = 70+x\n",
        "x,y = y,x+y\n",
        "print(x)\n",
        "print(y)"
      ],
      "metadata": {
        "colab": {
          "base_uri": "https://localhost:8080/"
        },
        "id": "J17OG-FsPfWl",
        "outputId": "bc4b799c-9a8f-410a-efb8-fd31cacebcfc"
      },
      "execution_count": 4,
      "outputs": [
        {
          "output_type": "stream",
          "name": "stdout",
          "text": [
            "90\n",
            "110\n"
          ]
        }
      ]
    },
    {
      "cell_type": "code",
      "source": [
        "#6\n",
        "x = 20\n",
        "y = 70-x\n",
        "x,y = y,y+x\t\n",
        "print(x)\n",
        "print(y)"
      ],
      "metadata": {
        "colab": {
          "base_uri": "https://localhost:8080/"
        },
        "id": "RzJpd8jMPfl1",
        "outputId": "879e4bfc-5439-4a7b-e4eb-4f87c78d8f31"
      },
      "execution_count": 7,
      "outputs": [
        {
          "output_type": "stream",
          "name": "stdout",
          "text": [
            "50\n",
            "70\n"
          ]
        }
      ]
    },
    {
      "cell_type": "code",
      "source": [
        "#7\n",
        "a,b = 2,10\n",
        "c,b = a*5,a/2\n",
        "print(a,b,c)\n"
      ],
      "metadata": {
        "colab": {
          "base_uri": "https://localhost:8080/"
        },
        "id": "ZctenEdrPf0O",
        "outputId": "f8829dbd-2dae-4c5b-ad0b-20753def4ad9"
      },
      "execution_count": 8,
      "outputs": [
        {
          "output_type": "stream",
          "name": "stdout",
          "text": [
            "2 1.0 10\n"
          ]
        }
      ]
    },
    {
      "cell_type": "code",
      "source": [
        "#8\n",
        "a = 20\n",
        "b = 5\n",
        "a,b = a//20,a**b\n",
        "print(a,b)"
      ],
      "metadata": {
        "colab": {
          "base_uri": "https://localhost:8080/"
        },
        "id": "J2E3bK1FPgCf",
        "outputId": "6ac16445-47d1-4827-cb98-cfc07ac54aa4"
      },
      "execution_count": 9,
      "outputs": [
        {
          "output_type": "stream",
          "name": "stdout",
          "text": [
            "1 3200000\n"
          ]
        }
      ]
    },
    {
      "cell_type": "code",
      "source": [
        "#9\n",
        "print(print(20))"
      ],
      "metadata": {
        "colab": {
          "base_uri": "https://localhost:8080/"
        },
        "id": "3n2GdJmIPgQO",
        "outputId": "24741836-580a-45d8-ecd1-6dd84593dae4"
      },
      "execution_count": 10,
      "outputs": [
        {
          "output_type": "stream",
          "name": "stdout",
          "text": [
            "20\n",
            "None\n"
          ]
        }
      ]
    },
    {
      "cell_type": "code",
      "source": [
        "#10\n",
        "print(print(int(50.50)))"
      ],
      "metadata": {
        "colab": {
          "base_uri": "https://localhost:8080/"
        },
        "id": "wTJfEJB7P1be",
        "outputId": "18802509-3e1d-4c5c-9518-986f042b29fd"
      },
      "execution_count": 11,
      "outputs": [
        {
          "output_type": "stream",
          "name": "stdout",
          "text": [
            "50\n",
            "None\n"
          ]
        }
      ]
    },
    {
      "cell_type": "code",
      "source": [
        "#11\n",
        "print(print(\"sonal\"))\n",
        " "
      ],
      "metadata": {
        "colab": {
          "base_uri": "https://localhost:8080/"
        },
        "id": "ILW7zJP3P-7e",
        "outputId": "e5458b5c-60e8-4fd6-9ae7-4d36d56adc98"
      },
      "execution_count": 12,
      "outputs": [
        {
          "output_type": "stream",
          "name": "stdout",
          "text": [
            "sonal\n",
            "None\n"
          ]
        }
      ]
    }
  ]
}