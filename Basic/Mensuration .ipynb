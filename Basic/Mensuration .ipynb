{
 "cells": [
  {
   "cell_type": "code",
   "execution_count": 3,
   "id": "8a3083a8",
   "metadata": {},
   "outputs": [
    {
     "name": "stdout",
     "output_type": "stream",
     "text": [
      "enter the length:8\n",
      "enter the breadth:4\n",
      "The perimeter of the rectangle is: 24\n"
     ]
    }
   ],
   "source": [
    "#the perimeter of the rectangle\n",
    "length=int(input(\"enter the length:\"))\n",
    "breadth=int(input(\"enter the breadth:\"))\n",
    "perimeter_of_rectangle=2*(length+breadth)\n",
    "print(\"The perimeter of the rectangle is:\",perimeter_of_rectangle)"
   ]
  },
  {
   "cell_type": "code",
   "execution_count": 2,
   "id": "4bbfdd5f",
   "metadata": {},
   "outputs": [
    {
     "name": "stdout",
     "output_type": "stream",
     "text": [
      "enter the value p:6\n",
      "enter the value r:4\n",
      "enter the value t:3\n",
      "simple interest is 0.72\n"
     ]
    }
   ],
   "source": [
    "#The simple interest\n",
    "p=float(input(\"enter the value p:\"))\n",
    "r=float(input(\"enter the value r:\"))\n",
    "t=float(input(\"enter the value t:\"))\n",
    "simple_interest=(p*r*t)/100\n",
    "print(\"simple interest is\",simple_interest)"
   ]
  },
  {
   "cell_type": "code",
   "execution_count": 4,
   "id": "fc6acef5",
   "metadata": {},
   "outputs": [
    {
     "name": "stdout",
     "output_type": "stream",
     "text": [
      "enter the value of c:87\n",
      "The value of celsius into fahrenheit: 188.6\n"
     ]
    }
   ],
   "source": [
    "#covert celsius into fahrenheit\n",
    "c=int(input(\"enter the value of c:\"))\n",
    "celsius_to_fahrenheit=(9/5*c)+32\n",
    "print(\"The value of celsius into fahrenheit:\",celsius_to_fahrenheit)"
   ]
  },
  {
   "cell_type": "code",
   "execution_count": 9,
   "id": "70eeebf9",
   "metadata": {},
   "outputs": [
    {
     "name": "stdout",
     "output_type": "stream",
     "text": [
      "enter the value of r2\n",
      "Area of circumferance is 12.56\n",
      "Area of circle is 12.56\n"
     ]
    }
   ],
   "source": [
    "#calculate the circumferance and area of circle together\n",
    "r=int(input(\"enter the value of r\"))\n",
    "area_of_circumferance=2*3.14*r\n",
    "area_of_circle=3.14*(r**2)\n",
    "print(\"Area of circumferance is\",area_of_circumferance)\n",
    "print(\"Area of circle is\",area_of_circle)\n"
   ]
  },
  {
   "cell_type": "code",
   "execution_count": 11,
   "id": "d35da354",
   "metadata": {},
   "outputs": [
    {
     "name": "stdout",
     "output_type": "stream",
     "text": [
      "enter the value of side4\n",
      "enter the length3\n",
      "enter the value of breadth6\n",
      "enter the value of height2\n",
      "24\n",
      "72\n",
      "27\n",
      "36\n"
     ]
    }
   ],
   "source": [
    "#total surface area and volume of cube and cuboil, together\n",
    "side=int(input(\"enter the value of side\"))\n",
    "length=int(input(\"enter the length\"))\n",
    "breadth=int(input(\"enter the value of breadth\"))\n",
    "height=int(input(\"enter the value of height\"))\n",
    "total_surface_area_of_cube=6*side\n",
    "total_surface_area_of_cuboid=2*(length*breadth+breadth*height+height*length)\n",
    "total_valume_of_cube=length**3\n",
    "total_valume_of_cuboid=length*breadth*height\n",
    "print(total_surface_area_of_cube)\n",
    "print(total_surface_area_of_cuboid)\n",
    "print(total_valume_of_cube)\n",
    "print(total_valume_of_cuboid)"
   ]
  },
  {
   "cell_type": "code",
   "execution_count": 12,
   "id": "3609344b",
   "metadata": {},
   "outputs": [
    {
     "name": "stdout",
     "output_type": "stream",
     "text": [
      "enter the value of n:2\n",
      "The value of n1 is 2\n",
      "The value of n2 is: 4\n",
      "The value of n3 is: 8\n",
      "The value of n4 is: 16\n",
      "The value of n5 is: 32\n",
      "The value of n6 is: 64\n",
      "The value of n7 is: 128\n",
      "The value of n8 is 256\n",
      "The value of n9 is: 512\n",
      "The value of n10 is: 1024\n"
     ]
    }
   ],
   "source": [
    "#take 'n' from the user and calculate\n",
    "n=int(input(\"enter the value of n:\"))\n",
    "n1=n**1\n",
    "n2=n**2\n",
    "n3=n**3\n",
    "n4=n**4\n",
    "n5=n**5\n",
    "n6=n**6\n",
    "n7=n**7\n",
    "n8=n**8\n",
    "n9=n**9\n",
    "n10=n**10\n",
    "print(\"The value of n1 is\",n1)\n",
    "print(\"The value of n2 is:\",n2)\n",
    "print(\"The value of n3 is:\",n3)\n",
    "print(\"The value of n4 is:\",n4)\n",
    "print(\"The value of n5 is:\",n5)\n",
    "print(\"The value of n6 is:\",n6)\n",
    "print(\"The value of n7 is:\",n7)\n",
    "print(\"The value of n8 is\",n8)\n",
    "print(\"The value of n9 is:\",n9)\n",
    "print(\"The value of n10 is:\",n10)\n",
    "\n"
   ]
  },
  {
   "cell_type": "code",
   "execution_count": 10,
   "id": "88ca1678",
   "metadata": {},
   "outputs": [
    {
     "name": "stdout",
     "output_type": "stream",
     "text": [
      "enter the value of length:76\n",
      "enter the value of breadth:45\n",
      "enter the value of height:22\n",
      "The area of swimming pool is: 8744\n"
     ]
    }
   ],
   "source": [
    "#calculate the area of the swimming pool\n",
    "length=int(input(\"enter the value of length:\"))\n",
    "breadth=int(input(\"enter the value of breadth:\"))\n",
    "height=int(input(\"enter the value of height:\"))\n",
    "area_of_the_swimming_pool=2*((length*breadth)+(breadth*height)+(height*length))-length*breadth\n",
    "print(\"The area of swimming pool is:\",area_of_the_swimming_pool)"
   ]
  },
  {
   "cell_type": "code",
   "execution_count": 9,
   "id": "6d4c255b",
   "metadata": {},
   "outputs": [
    {
     "name": "stdout",
     "output_type": "stream",
     "text": [
      "enter the radius:56\n",
      "enter the height:23\n",
      "The area of the bucket is: 17935.68\n"
     ]
    }
   ],
   "source": [
    "#calculate the area of the bucket\n",
    "radius=float(input(\"enter the radius:\"))\n",
    "height=float(input(\"enter the height:\"))\n",
    "area_of_bucket=(2*3.14*radius*height)+(3.14*radius*radius)\n",
    "print(\"The area of the bucket is:\",area_of_bucket)"
   ]
  },
  {
   "cell_type": "code",
   "execution_count": 7,
   "id": "14babcf0",
   "metadata": {},
   "outputs": [
    {
     "name": "stdout",
     "output_type": "stream",
     "text": [
      "enter the side:2\n",
      "The area of equilateral is: 1.5\n"
     ]
    }
   ],
   "source": [
    "#calculate the area of equilatoral\n",
    "side=int(input(\"enter the side:\"))\n",
    "equilateral=((3)**1/2)/4*(side**2)\n",
    "print(\"The area of equilateral is:\",equilateral)\n"
   ]
  },
  {
   "cell_type": "code",
   "execution_count": 2,
   "id": "7185573f",
   "metadata": {
    "scrolled": true
   },
   "outputs": [
    {
     "name": "stdout",
     "output_type": "stream",
     "text": [
      "enter your height in cm:161\n",
      "enter your weight in kg:45\n",
      "The BMI of a person is: 17.360441340997646\n"
     ]
    }
   ],
   "source": [
    "#calculate the BMI of a person\n",
    "height=float(input(\"enter your height in cm:\"))\n",
    "weight=float(input(\"enter your weight in kg:\"))\n",
    "BMI=weight/(height/100)**2\n",
    "print(\"The BMI of a person is:\",BMI)"
   ]
  },
  {
   "cell_type": "code",
   "execution_count": 12,
   "id": "9441a26b",
   "metadata": {},
   "outputs": [
    {
     "name": "stdout",
     "output_type": "stream",
     "text": [
      "enter the length of room l15\n",
      "enter the breadth of room b18\n",
      "enter the length of blade l26\n",
      "enter the breadth of blade b27\n",
      "enter the radius of centeral piece2\n",
      "enter the value of side of light2\n",
      "the area of ceilling is 349.136\n"
     ]
    }
   ],
   "source": [
    "#fan/room/light\n",
    "#roof area\n",
    "l1=int(input(\"enter the length of room l1:\"))\n",
    "b1=int(input(\"enter the breadth of room b1:\"))\n",
    "area_of_the_room=l1*b1\n",
    "#fan area\n",
    "l2=int(input(\"enter the length of blade l2:\"))\n",
    "b2=int(input(\"enter the breadth of blade b2:\"))\n",
    "radius=int(input(\"enter the radius of centeral piece:\"))\n",
    "area_of_the_blade=6*(l2*b2)\n",
    "area_of_the_central_piece=2*3.142*radius**2\n",
    "#light area\n",
    "side=int(input(\"enter the value of side of light:\"))\n",
    "area_of_the_light=8*(side*side)\n",
    "area_of_the_ceilling=area_of_the_room + area_of_the_blade + area_of_the_central_piece + area_of_the_light\n",
    "print(\"the area of ceilling is:\",area_of_the_ceilling)"
   ]
  },
  {
   "cell_type": "code",
   "execution_count": null,
   "id": "4edae937",
   "metadata": {},
   "outputs": [],
   "source": []
  }
 ],
 "metadata": {
  "kernelspec": {
   "display_name": "Python 3 (ipykernel)",
   "language": "python",
   "name": "python3"
  },
  "language_info": {
   "codemirror_mode": {
    "name": "ipython",
    "version": 3
   },
   "file_extension": ".py",
   "mimetype": "text/x-python",
   "name": "python",
   "nbconvert_exporter": "python",
   "pygments_lexer": "ipython3",
   "version": "3.9.7"
  }
 },
 "nbformat": 4,
 "nbformat_minor": 5
}
