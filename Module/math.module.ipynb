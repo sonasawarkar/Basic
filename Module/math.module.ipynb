{
 "cells": [
  {
   "cell_type": "markdown",
   "id": "245c61d0",
   "metadata": {},
   "source": [
    "### Method_1"
   ]
  },
  {
   "cell_type": "code",
   "execution_count": 28,
   "id": "3240f819",
   "metadata": {},
   "outputs": [
    {
     "data": {
      "text/plain": [
       "72"
      ]
     },
     "execution_count": 28,
     "metadata": {},
     "output_type": "execute_result"
    }
   ],
   "source": [
    "import maths\n",
    "maths.add(67,5)"
   ]
  },
  {
   "cell_type": "code",
   "execution_count": 14,
   "id": "8b75fbc7",
   "metadata": {},
   "outputs": [
    {
     "data": {
      "text/plain": [
       "35"
      ]
     },
     "execution_count": 14,
     "metadata": {},
     "output_type": "execute_result"
    }
   ],
   "source": [
    "import maths\n",
    "maths.sub(57,22)"
   ]
  },
  {
   "cell_type": "code",
   "execution_count": 1,
   "id": "792512dd",
   "metadata": {},
   "outputs": [
    {
     "data": {
      "text/plain": [
       "1254"
      ]
     },
     "execution_count": 1,
     "metadata": {},
     "output_type": "execute_result"
    }
   ],
   "source": [
    "import maths\n",
    "maths.mul(57,22)"
   ]
  },
  {
   "cell_type": "markdown",
   "id": "ed5bfe96",
   "metadata": {},
   "source": [
    "### Method_2"
   ]
  },
  {
   "cell_type": "code",
   "execution_count": 18,
   "id": "75202e4e",
   "metadata": {},
   "outputs": [
    {
     "data": {
      "text/plain": [
       "8"
      ]
     },
     "execution_count": 18,
     "metadata": {},
     "output_type": "execute_result"
    }
   ],
   "source": [
    "from maths import*\n",
    "add(2,6)"
   ]
  },
  {
   "cell_type": "code",
   "execution_count": 21,
   "id": "77ddd618",
   "metadata": {},
   "outputs": [
    {
     "data": {
      "text/plain": [
       "14"
      ]
     },
     "execution_count": 21,
     "metadata": {},
     "output_type": "execute_result"
    }
   ],
   "source": [
    "from maths import*\n",
    "sub(20,6)"
   ]
  },
  {
   "cell_type": "code",
   "execution_count": 24,
   "id": "12853e46",
   "metadata": {},
   "outputs": [
    {
     "data": {
      "text/plain": [
       "12"
      ]
     },
     "execution_count": 24,
     "metadata": {},
     "output_type": "execute_result"
    }
   ],
   "source": [
    "from maths import*\n",
    "mul(2,6)"
   ]
  },
  {
   "cell_type": "markdown",
   "id": "c413d740",
   "metadata": {},
   "source": [
    "### Method_3"
   ]
  },
  {
   "cell_type": "code",
   "execution_count": 31,
   "id": "9bbdc013",
   "metadata": {},
   "outputs": [
    {
     "data": {
      "text/plain": [
       "5"
      ]
     },
     "execution_count": 31,
     "metadata": {},
     "output_type": "execute_result"
    }
   ],
   "source": [
    "from maths import add\n",
    "add(2,3)"
   ]
  },
  {
   "cell_type": "code",
   "execution_count": 32,
   "id": "d0ccb117",
   "metadata": {},
   "outputs": [
    {
     "data": {
      "text/plain": [
       "6"
      ]
     },
     "execution_count": 32,
     "metadata": {},
     "output_type": "execute_result"
    }
   ],
   "source": [
    "from maths import mul\n",
    "mul(2,3)"
   ]
  },
  {
   "cell_type": "code",
   "execution_count": 34,
   "id": "05836ce5",
   "metadata": {},
   "outputs": [
    {
     "data": {
      "text/plain": [
       "17"
      ]
     },
     "execution_count": 34,
     "metadata": {},
     "output_type": "execute_result"
    }
   ],
   "source": [
    "from maths import sub\n",
    "sub(20,3)"
   ]
  }
 ],
 "metadata": {
  "kernelspec": {
   "display_name": "Python 3 (ipykernel)",
   "language": "python",
   "name": "python3"
  },
  "language_info": {
   "codemirror_mode": {
    "name": "ipython",
    "version": 3
   },
   "file_extension": ".py",
   "mimetype": "text/x-python",
   "name": "python",
   "nbconvert_exporter": "python",
   "pygments_lexer": "ipython3",
   "version": "3.9.12"
  }
 },
 "nbformat": 4,
 "nbformat_minor": 5
}
